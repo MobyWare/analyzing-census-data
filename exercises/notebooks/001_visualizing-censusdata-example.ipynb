{
 "cells": [
  {
   "cell_type": "markdown",
   "metadata": {},
   "source": [
    "# Visualizing data from `censusdata` example"
   ]
  },
  {
   "cell_type": "code",
   "execution_count": 10,
   "metadata": {},
   "outputs": [],
   "source": [
    "from zipfile import ZipFile\n",
    "import geopandas as gpd\n",
    "import pandas as pd\n",
    "from pathlib import Path\n",
    "from acs_download import tree"
   ]
  },
  {
   "cell_type": "code",
   "execution_count": 2,
   "metadata": {},
   "outputs": [],
   "source": [
    "RAW_DATA = Path(\"../data/raw/\")\n",
    "INTERIM_DATA = Path(\"../data/interim/\")"
   ]
  },
  {
   "cell_type": "code",
   "execution_count": 4,
   "metadata": {},
   "outputs": [
    {
     "name": "stdout",
     "output_type": "stream",
     "text": [
      "+ ..\\data\\raw\n",
      "    + acs5_2017_medianage_counties.csv\n",
      "    + acs5_2017_medianage_states.csv\n",
      "    + cps_00016.dta.gz\n",
      "    + tl_2018_us_county.zip\n"
     ]
    }
   ],
   "source": [
    "tree(RAW_DATA)"
   ]
  },
  {
   "cell_type": "code",
   "execution_count": 6,
   "metadata": {},
   "outputs": [],
   "source": [
    "ZipFile(RAW_DATA / \"tl_2018_us_county.zip\").extractall(INTERIM_DATA / \"counties/\")"
   ]
  },
  {
   "cell_type": "code",
   "execution_count": 7,
   "metadata": {},
   "outputs": [
    {
     "name": "stdout",
     "output_type": "stream",
     "text": [
      "+ ..\\data\\interim\n",
      "    + .ipynb_checkpoints\n",
      "    + censusdata_example.csv\n",
      "    + counties\n",
      "        + tl_2018_us_county.cpg\n",
      "        + tl_2018_us_county.dbf\n",
      "        + tl_2018_us_county.prj\n",
      "        + tl_2018_us_county.shp\n",
      "        + tl_2018_us_county.shp.ea.iso.xml\n",
      "        + tl_2018_us_county.shp.iso.xml\n",
      "        + tl_2018_us_county.shx\n"
     ]
    }
   ],
   "source": [
    "tree(INTERIM_DATA)"
   ]
  },
  {
   "cell_type": "code",
   "execution_count": 8,
   "metadata": {},
   "outputs": [
    {
     "data": {
      "text/html": [
       "<div>\n",
       "<style scoped>\n",
       "    .dataframe tbody tr th:only-of-type {\n",
       "        vertical-align: middle;\n",
       "    }\n",
       "\n",
       "    .dataframe tbody tr th {\n",
       "        vertical-align: top;\n",
       "    }\n",
       "\n",
       "    .dataframe thead th {\n",
       "        text-align: right;\n",
       "    }\n",
       "</style>\n",
       "<table border=\"1\" class=\"dataframe\">\n",
       "  <thead>\n",
       "    <tr style=\"text-align: right;\">\n",
       "      <th></th>\n",
       "      <th>STATEFP</th>\n",
       "      <th>COUNTYFP</th>\n",
       "      <th>COUNTYNS</th>\n",
       "      <th>GEOID</th>\n",
       "      <th>NAME</th>\n",
       "      <th>NAMELSAD</th>\n",
       "      <th>LSAD</th>\n",
       "      <th>CLASSFP</th>\n",
       "      <th>MTFCC</th>\n",
       "      <th>CSAFP</th>\n",
       "      <th>CBSAFP</th>\n",
       "      <th>METDIVFP</th>\n",
       "      <th>FUNCSTAT</th>\n",
       "      <th>ALAND</th>\n",
       "      <th>AWATER</th>\n",
       "      <th>INTPTLAT</th>\n",
       "      <th>INTPTLON</th>\n",
       "      <th>geometry</th>\n",
       "    </tr>\n",
       "  </thead>\n",
       "  <tbody>\n",
       "    <tr>\n",
       "      <th>0</th>\n",
       "      <td>31</td>\n",
       "      <td>039</td>\n",
       "      <td>00835841</td>\n",
       "      <td>31039</td>\n",
       "      <td>Cuming</td>\n",
       "      <td>Cuming County</td>\n",
       "      <td>06</td>\n",
       "      <td>H1</td>\n",
       "      <td>G4020</td>\n",
       "      <td>None</td>\n",
       "      <td>None</td>\n",
       "      <td>None</td>\n",
       "      <td>A</td>\n",
       "      <td>1477652222</td>\n",
       "      <td>10690952</td>\n",
       "      <td>+41.9158651</td>\n",
       "      <td>-096.7885168</td>\n",
       "      <td>POLYGON ((-97.019516 42.004097, -97.019519 42....</td>\n",
       "    </tr>\n",
       "    <tr>\n",
       "      <th>1</th>\n",
       "      <td>53</td>\n",
       "      <td>069</td>\n",
       "      <td>01513275</td>\n",
       "      <td>53069</td>\n",
       "      <td>Wahkiakum</td>\n",
       "      <td>Wahkiakum County</td>\n",
       "      <td>06</td>\n",
       "      <td>H1</td>\n",
       "      <td>G4020</td>\n",
       "      <td>None</td>\n",
       "      <td>None</td>\n",
       "      <td>None</td>\n",
       "      <td>A</td>\n",
       "      <td>680956809</td>\n",
       "      <td>61588406</td>\n",
       "      <td>+46.2946377</td>\n",
       "      <td>-123.4244583</td>\n",
       "      <td>POLYGON ((-123.436394 46.238197, -123.447592 4...</td>\n",
       "    </tr>\n",
       "    <tr>\n",
       "      <th>2</th>\n",
       "      <td>35</td>\n",
       "      <td>011</td>\n",
       "      <td>00933054</td>\n",
       "      <td>35011</td>\n",
       "      <td>De Baca</td>\n",
       "      <td>De Baca County</td>\n",
       "      <td>06</td>\n",
       "      <td>H1</td>\n",
       "      <td>G4020</td>\n",
       "      <td>None</td>\n",
       "      <td>None</td>\n",
       "      <td>None</td>\n",
       "      <td>A</td>\n",
       "      <td>6016819484</td>\n",
       "      <td>29089486</td>\n",
       "      <td>+34.3592729</td>\n",
       "      <td>-104.3686961</td>\n",
       "      <td>POLYGON ((-104.567387 33.997566, -104.567717 3...</td>\n",
       "    </tr>\n",
       "    <tr>\n",
       "      <th>3</th>\n",
       "      <td>31</td>\n",
       "      <td>109</td>\n",
       "      <td>00835876</td>\n",
       "      <td>31109</td>\n",
       "      <td>Lancaster</td>\n",
       "      <td>Lancaster County</td>\n",
       "      <td>06</td>\n",
       "      <td>H1</td>\n",
       "      <td>G4020</td>\n",
       "      <td>339</td>\n",
       "      <td>30700</td>\n",
       "      <td>None</td>\n",
       "      <td>A</td>\n",
       "      <td>2169287528</td>\n",
       "      <td>22832516</td>\n",
       "      <td>+40.7835474</td>\n",
       "      <td>-096.6886584</td>\n",
       "      <td>POLYGON ((-96.91075099999999 40.784944, -96.91...</td>\n",
       "    </tr>\n",
       "    <tr>\n",
       "      <th>4</th>\n",
       "      <td>31</td>\n",
       "      <td>129</td>\n",
       "      <td>00835886</td>\n",
       "      <td>31129</td>\n",
       "      <td>Nuckolls</td>\n",
       "      <td>Nuckolls County</td>\n",
       "      <td>06</td>\n",
       "      <td>H1</td>\n",
       "      <td>G4020</td>\n",
       "      <td>None</td>\n",
       "      <td>None</td>\n",
       "      <td>None</td>\n",
       "      <td>A</td>\n",
       "      <td>1489645187</td>\n",
       "      <td>1718484</td>\n",
       "      <td>+40.1764918</td>\n",
       "      <td>-098.0468422</td>\n",
       "      <td>POLYGON ((-98.27366699999999 40.089399, -98.27...</td>\n",
       "    </tr>\n",
       "  </tbody>\n",
       "</table>\n",
       "</div>"
      ],
      "text/plain": [
       "  STATEFP COUNTYFP  COUNTYNS  GEOID       NAME          NAMELSAD LSAD CLASSFP  \\\n",
       "0      31      039  00835841  31039     Cuming     Cuming County   06      H1   \n",
       "1      53      069  01513275  53069  Wahkiakum  Wahkiakum County   06      H1   \n",
       "2      35      011  00933054  35011    De Baca    De Baca County   06      H1   \n",
       "3      31      109  00835876  31109  Lancaster  Lancaster County   06      H1   \n",
       "4      31      129  00835886  31129   Nuckolls   Nuckolls County   06      H1   \n",
       "\n",
       "   MTFCC CSAFP CBSAFP METDIVFP FUNCSTAT       ALAND    AWATER     INTPTLAT  \\\n",
       "0  G4020  None   None     None        A  1477652222  10690952  +41.9158651   \n",
       "1  G4020  None   None     None        A   680956809  61588406  +46.2946377   \n",
       "2  G4020  None   None     None        A  6016819484  29089486  +34.3592729   \n",
       "3  G4020   339  30700     None        A  2169287528  22832516  +40.7835474   \n",
       "4  G4020  None   None     None        A  1489645187   1718484  +40.1764918   \n",
       "\n",
       "       INTPTLON                                           geometry  \n",
       "0  -096.7885168  POLYGON ((-97.019516 42.004097, -97.019519 42....  \n",
       "1  -123.4244583  POLYGON ((-123.436394 46.238197, -123.447592 4...  \n",
       "2  -104.3686961  POLYGON ((-104.567387 33.997566, -104.567717 3...  \n",
       "3  -096.6886584  POLYGON ((-96.91075099999999 40.784944, -96.91...  \n",
       "4  -098.0468422  POLYGON ((-98.27366699999999 40.089399, -98.27...  "
      ]
     },
     "execution_count": 8,
     "metadata": {},
     "output_type": "execute_result"
    }
   ],
   "source": [
    "geo_data = gpd.read_file(INTERIM_DATA / 'counties' / 'tl_2018_us_county.shp')\n",
    "\n",
    "geo_data.head()"
   ]
  },
  {
   "cell_type": "code",
   "execution_count": 11,
   "metadata": {},
   "outputs": [
    {
     "data": {
      "text/html": [
       "<div>\n",
       "<style scoped>\n",
       "    .dataframe tbody tr th:only-of-type {\n",
       "        vertical-align: middle;\n",
       "    }\n",
       "\n",
       "    .dataframe tbody tr th {\n",
       "        vertical-align: top;\n",
       "    }\n",
       "\n",
       "    .dataframe thead th {\n",
       "        text-align: right;\n",
       "    }\n",
       "</style>\n",
       "<table border=\"1\" class=\"dataframe\">\n",
       "  <thead>\n",
       "    <tr style=\"text-align: right;\">\n",
       "      <th></th>\n",
       "      <th>State</th>\n",
       "      <th>State Code</th>\n",
       "      <th>County</th>\n",
       "      <th>County Code</th>\n",
       "      <th>Summary Level</th>\n",
       "      <th>share of bachelors+</th>\n",
       "    </tr>\n",
       "  </thead>\n",
       "  <tbody>\n",
       "    <tr>\n",
       "      <th>0</th>\n",
       "      <td>CA</td>\n",
       "      <td>6</td>\n",
       "      <td>Modoc</td>\n",
       "      <td>49</td>\n",
       "      <td>50</td>\n",
       "      <td>0.165791</td>\n",
       "    </tr>\n",
       "    <tr>\n",
       "      <th>1</th>\n",
       "      <td>CA</td>\n",
       "      <td>6</td>\n",
       "      <td>Merced</td>\n",
       "      <td>47</td>\n",
       "      <td>50</td>\n",
       "      <td>0.137588</td>\n",
       "    </tr>\n",
       "    <tr>\n",
       "      <th>2</th>\n",
       "      <td>CA</td>\n",
       "      <td>6</td>\n",
       "      <td>Lake</td>\n",
       "      <td>33</td>\n",
       "      <td>50</td>\n",
       "      <td>0.153408</td>\n",
       "    </tr>\n",
       "    <tr>\n",
       "      <th>3</th>\n",
       "      <td>CA</td>\n",
       "      <td>6</td>\n",
       "      <td>Mariposa</td>\n",
       "      <td>43</td>\n",
       "      <td>50</td>\n",
       "      <td>0.244215</td>\n",
       "    </tr>\n",
       "    <tr>\n",
       "      <th>4</th>\n",
       "      <td>CA</td>\n",
       "      <td>6</td>\n",
       "      <td>Yuba</td>\n",
       "      <td>115</td>\n",
       "      <td>50</td>\n",
       "      <td>0.163754</td>\n",
       "    </tr>\n",
       "  </tbody>\n",
       "</table>\n",
       "</div>"
      ],
      "text/plain": [
       "  State  State Code    County  County Code  Summary Level  share of bachelors+\n",
       "0    CA           6     Modoc           49             50             0.165791\n",
       "1    CA           6    Merced           47             50             0.137588\n",
       "2    CA           6      Lake           33             50             0.153408\n",
       "3    CA           6  Mariposa           43             50             0.244215\n",
       "4    CA           6      Yuba          115             50             0.163754"
      ]
     },
     "execution_count": 11,
     "metadata": {},
     "output_type": "execute_result"
    }
   ],
   "source": [
    "data = pd.read_csv(INTERIM_DATA / 'censusdata_example.csv')\n",
    "\n",
    "data.head()"
   ]
  },
  {
   "cell_type": "markdown",
   "metadata": {},
   "source": [
    "Geo data GEOID is STATECODE plus COUNTYCODE\n",
    "\n",
    "we just want GEOID GEOMETRY and maybe NAME for this"
   ]
  },
  {
   "cell_type": "code",
   "execution_count": 13,
   "metadata": {},
   "outputs": [],
   "source": [
    "california_geodata = geo_data[geo_data['STATEFP'] == '06'].copy()"
   ]
  },
  {
   "cell_type": "code",
   "execution_count": 22,
   "metadata": {},
   "outputs": [],
   "source": [
    "data['State Code'] = data['State Code'].astype(str).str.zfill(2)\n",
    "data['County Code'] = data['County Code'].astype(str).str.zfill(3)"
   ]
  },
  {
   "cell_type": "code",
   "execution_count": 24,
   "metadata": {},
   "outputs": [
    {
     "data": {
      "text/html": [
       "<div>\n",
       "<style scoped>\n",
       "    .dataframe tbody tr th:only-of-type {\n",
       "        vertical-align: middle;\n",
       "    }\n",
       "\n",
       "    .dataframe tbody tr th {\n",
       "        vertical-align: top;\n",
       "    }\n",
       "\n",
       "    .dataframe thead th {\n",
       "        text-align: right;\n",
       "    }\n",
       "</style>\n",
       "<table border=\"1\" class=\"dataframe\">\n",
       "  <thead>\n",
       "    <tr style=\"text-align: right;\">\n",
       "      <th></th>\n",
       "      <th>State</th>\n",
       "      <th>State Code</th>\n",
       "      <th>County</th>\n",
       "      <th>County Code</th>\n",
       "      <th>Summary Level</th>\n",
       "      <th>share of bachelors+</th>\n",
       "      <th>GEOID</th>\n",
       "    </tr>\n",
       "  </thead>\n",
       "  <tbody>\n",
       "    <tr>\n",
       "      <th>0</th>\n",
       "      <td>CA</td>\n",
       "      <td>06</td>\n",
       "      <td>Modoc</td>\n",
       "      <td>049</td>\n",
       "      <td>50</td>\n",
       "      <td>0.165791</td>\n",
       "      <td>06049</td>\n",
       "    </tr>\n",
       "    <tr>\n",
       "      <th>1</th>\n",
       "      <td>CA</td>\n",
       "      <td>06</td>\n",
       "      <td>Merced</td>\n",
       "      <td>047</td>\n",
       "      <td>50</td>\n",
       "      <td>0.137588</td>\n",
       "      <td>06047</td>\n",
       "    </tr>\n",
       "    <tr>\n",
       "      <th>2</th>\n",
       "      <td>CA</td>\n",
       "      <td>06</td>\n",
       "      <td>Lake</td>\n",
       "      <td>033</td>\n",
       "      <td>50</td>\n",
       "      <td>0.153408</td>\n",
       "      <td>06033</td>\n",
       "    </tr>\n",
       "    <tr>\n",
       "      <th>3</th>\n",
       "      <td>CA</td>\n",
       "      <td>06</td>\n",
       "      <td>Mariposa</td>\n",
       "      <td>043</td>\n",
       "      <td>50</td>\n",
       "      <td>0.244215</td>\n",
       "      <td>06043</td>\n",
       "    </tr>\n",
       "    <tr>\n",
       "      <th>4</th>\n",
       "      <td>CA</td>\n",
       "      <td>06</td>\n",
       "      <td>Yuba</td>\n",
       "      <td>115</td>\n",
       "      <td>50</td>\n",
       "      <td>0.163754</td>\n",
       "      <td>06115</td>\n",
       "    </tr>\n",
       "  </tbody>\n",
       "</table>\n",
       "</div>"
      ],
      "text/plain": [
       "  State State Code    County County Code  Summary Level  share of bachelors+  \\\n",
       "0    CA         06     Modoc         049             50             0.165791   \n",
       "1    CA         06    Merced         047             50             0.137588   \n",
       "2    CA         06      Lake         033             50             0.153408   \n",
       "3    CA         06  Mariposa         043             50             0.244215   \n",
       "4    CA         06      Yuba         115             50             0.163754   \n",
       "\n",
       "   GEOID  \n",
       "0  06049  \n",
       "1  06047  \n",
       "2  06033  \n",
       "3  06043  \n",
       "4  06115  "
      ]
     },
     "execution_count": 24,
     "metadata": {},
     "output_type": "execute_result"
    }
   ],
   "source": [
    "data['GEOID'] = data['State Code'] + data['County Code']\n",
    "\n",
    "data.head()"
   ]
  },
  {
   "cell_type": "code",
   "execution_count": 27,
   "metadata": {},
   "outputs": [],
   "source": [
    "vars_im_interested_in = ['GEOID', 'NAME', 'geometry']\n",
    "cleaned_geodata = california_geodata[vars_im_interested_in].copy()"
   ]
  },
  {
   "cell_type": "code",
   "execution_count": 28,
   "metadata": {},
   "outputs": [
    {
     "data": {
      "text/html": [
       "<div>\n",
       "<style scoped>\n",
       "    .dataframe tbody tr th:only-of-type {\n",
       "        vertical-align: middle;\n",
       "    }\n",
       "\n",
       "    .dataframe tbody tr th {\n",
       "        vertical-align: top;\n",
       "    }\n",
       "\n",
       "    .dataframe thead th {\n",
       "        text-align: right;\n",
       "    }\n",
       "</style>\n",
       "<table border=\"1\" class=\"dataframe\">\n",
       "  <thead>\n",
       "    <tr style=\"text-align: right;\">\n",
       "      <th></th>\n",
       "      <th>GEOID</th>\n",
       "      <th>NAME</th>\n",
       "      <th>geometry</th>\n",
       "    </tr>\n",
       "  </thead>\n",
       "  <tbody>\n",
       "    <tr>\n",
       "      <th>8</th>\n",
       "      <td>06091</td>\n",
       "      <td>Sierra</td>\n",
       "      <td>POLYGON ((-120.655585 39.69356, -120.655524 39...</td>\n",
       "    </tr>\n",
       "    <tr>\n",
       "      <th>325</th>\n",
       "      <td>06067</td>\n",
       "      <td>Sacramento</td>\n",
       "      <td>POLYGON ((-121.188571 38.714308, -121.18731 38...</td>\n",
       "    </tr>\n",
       "    <tr>\n",
       "      <th>329</th>\n",
       "      <td>06083</td>\n",
       "      <td>Santa Barbara</td>\n",
       "      <td>(POLYGON ((-120.734292 34.900689, -120.734302 ...</td>\n",
       "    </tr>\n",
       "    <tr>\n",
       "      <th>346</th>\n",
       "      <td>06009</td>\n",
       "      <td>Calaveras</td>\n",
       "      <td>POLYGON ((-120.630933 38.3411, -120.630566 38....</td>\n",
       "    </tr>\n",
       "    <tr>\n",
       "      <th>394</th>\n",
       "      <td>06111</td>\n",
       "      <td>Ventura</td>\n",
       "      <td>(POLYGON ((-119.329216 34.227838, -119.329246 ...</td>\n",
       "    </tr>\n",
       "  </tbody>\n",
       "</table>\n",
       "</div>"
      ],
      "text/plain": [
       "     GEOID           NAME                                           geometry\n",
       "8    06091         Sierra  POLYGON ((-120.655585 39.69356, -120.655524 39...\n",
       "325  06067     Sacramento  POLYGON ((-121.188571 38.714308, -121.18731 38...\n",
       "329  06083  Santa Barbara  (POLYGON ((-120.734292 34.900689, -120.734302 ...\n",
       "346  06009      Calaveras  POLYGON ((-120.630933 38.3411, -120.630566 38....\n",
       "394  06111        Ventura  (POLYGON ((-119.329216 34.227838, -119.329246 ..."
      ]
     },
     "execution_count": 28,
     "metadata": {},
     "output_type": "execute_result"
    }
   ],
   "source": [
    "cleaned_geodata.head()"
   ]
  },
  {
   "cell_type": "code",
   "execution_count": 32,
   "metadata": {},
   "outputs": [],
   "source": [
    "final_dataset = pd.merge(cleaned_geodata, data)"
   ]
  },
  {
   "cell_type": "code",
   "execution_count": 33,
   "metadata": {},
   "outputs": [],
   "source": [
    "%matplotlib inline"
   ]
  },
  {
   "cell_type": "code",
   "execution_count": 37,
   "metadata": {},
   "outputs": [
    {
     "data": {
      "image/png": "[encoded data removed]",
      "text/plain": [
       "<Figure size 1152x864 with 1 Axes>"
      ]
     },
     "metadata": {
      "needs_background": "light"
     },
     "output_type": "display_data"
    }
   ],
   "source": [
    "final_dataset.plot(column = 'share of bachelors+', figsize = (16,12));"
   ]
  },
  {
   "cell_type": "code",
   "execution_count": null,
   "metadata": {},
   "outputs": [],
   "source": []
  }
 ],
 "metadata": {
  "kernelspec": {
   "display_name": "Python 3",
   "language": "python",
   "name": "python3"
  },
  "language_info": {
   "codemirror_mode": {
    "name": "ipython",
    "version": 3
   },
   "file_extension": ".py",
   "mimetype": "text/x-python",
   "name": "python",
   "nbconvert_exporter": "python",
   "pygments_lexer": "ipython3",
   "version": "3.7.3"
  }
 },
 "nbformat": 4,
 "nbformat_minor": 2
}

{
 "cells": [
  {
   "cell_type": "markdown",
   "metadata": {},
   "source": [
    "# Project 1: Digital Divide\n",
    "\n",
    "### Based on PPIC's Just the Facts report [\"California's Digital Divide\"](https://www.ppic.org/publication/californias-digital-divide/)"
   ]
  },
  {
   "cell_type": "markdown",
   "metadata": {},
   "source": [
    "## Question(s):\n",
    "1. What share households have access to high-speed internet? \n",
    "2. Does this number vary across demographic groups? (in this case race/ethnicity)."
   ]
  },
  {
   "cell_type": "markdown",
   "metadata": {},
   "source": [
    "***"
   ]
  },
  {
   "cell_type": "code",
   "execution_count": 1,
   "metadata": {},
   "outputs": [
    {
     "name": "stdout",
     "output_type": "stream",
     "text": [
      "27-Apr-19\n"
     ]
    }
   ],
   "source": [
    "# setting up working environment\n",
    "import pandas as pd\n",
    "from pathlib import Path\n",
    "from datetime import datetime as dt\n",
    "today = dt.today().strftime(\"%d-%b-%y\")\n",
    "\n",
    "print(today)\n",
    "\n",
    "from tools import tree "
   ]
  },
  {
   "cell_type": "code",
   "execution_count": 2,
   "metadata": {},
   "outputs": [],
   "source": [
    "# data folder and paths\n",
    "RAW_DATA_FOLDER = Path(\"../data/raw/\")\n",
    "INTERIM_DATA_FOLDER = Path(\"../data/interim/\")\n",
    "PROCESSED_DATA_FOLDER = Path(\"../data/processed/\")\n",
    "FINAL_DATA_FOLDER = Path(\"../data/final/\")"
   ]
  },
  {
   "cell_type": "code",
   "execution_count": 3,
   "metadata": {},
   "outputs": [
    {
     "name": "stdout",
     "output_type": "stream",
     "text": [
      "+ ../data/interim\n",
      "    + working_dataset-26-Apr-19.dta\n",
      "    + working_dataset-27-Apr-19.dta\n"
     ]
    }
   ],
   "source": [
    "tree(INTERIM_DATA_FOLDER)"
   ]
  },
  {
   "cell_type": "code",
   "execution_count": 4,
   "metadata": {},
   "outputs": [],
   "source": [
    "data = pd.read_stata(INTERIM_DATA_FOLDER / f'working_dataset-{today}.dta')"
   ]
  },
  {
   "cell_type": "code",
   "execution_count": 5,
   "metadata": {},
   "outputs": [
    {
     "data": {
      "text/plain": [
       "(44816, 14)"
      ]
     },
     "execution_count": 5,
     "metadata": {},
     "output_type": "execute_result"
    }
   ],
   "source": [
    "data.shape"
   ]
  },
  {
   "cell_type": "code",
   "execution_count": 6,
   "metadata": {},
   "outputs": [
    {
     "data": {
      "text/html": [
       "<div>\n",
       "<style scoped>\n",
       "    .dataframe tbody tr th:only-of-type {\n",
       "        vertical-align: middle;\n",
       "    }\n",
       "\n",
       "    .dataframe tbody tr th {\n",
       "        vertical-align: top;\n",
       "    }\n",
       "\n",
       "    .dataframe thead th {\n",
       "        text-align: right;\n",
       "    }\n",
       "</style>\n",
       "<table border=\"1\" class=\"dataframe\">\n",
       "  <thead>\n",
       "    <tr style=\"text-align: right;\">\n",
       "      <th></th>\n",
       "      <th>year</th>\n",
       "      <th>serial</th>\n",
       "      <th>hhwt</th>\n",
       "      <th>stateicp</th>\n",
       "      <th>countyfip</th>\n",
       "      <th>cinethh</th>\n",
       "      <th>cihispeed</th>\n",
       "      <th>pernum</th>\n",
       "      <th>perwt</th>\n",
       "      <th>relate</th>\n",
       "      <th>sex</th>\n",
       "      <th>age</th>\n",
       "      <th>race</th>\n",
       "      <th>hispan</th>\n",
       "    </tr>\n",
       "  </thead>\n",
       "  <tbody>\n",
       "    <tr>\n",
       "      <th>0</th>\n",
       "      <td>2017</td>\n",
       "      <td>953662</td>\n",
       "      <td>57</td>\n",
       "      <td>ohio</td>\n",
       "      <td>0</td>\n",
       "      <td>yes, with a subscription to an internet service</td>\n",
       "      <td>yes (cable modem, fiber optic or dsl service)</td>\n",
       "      <td>1</td>\n",
       "      <td>58</td>\n",
       "      <td>head/householder</td>\n",
       "      <td>female</td>\n",
       "      <td>48</td>\n",
       "      <td>white</td>\n",
       "      <td>not hispanic</td>\n",
       "    </tr>\n",
       "    <tr>\n",
       "      <th>1</th>\n",
       "      <td>2017</td>\n",
       "      <td>953662</td>\n",
       "      <td>57</td>\n",
       "      <td>ohio</td>\n",
       "      <td>0</td>\n",
       "      <td>yes, with a subscription to an internet service</td>\n",
       "      <td>yes (cable modem, fiber optic or dsl service)</td>\n",
       "      <td>2</td>\n",
       "      <td>62</td>\n",
       "      <td>child</td>\n",
       "      <td>male</td>\n",
       "      <td>20</td>\n",
       "      <td>white</td>\n",
       "      <td>not hispanic</td>\n",
       "    </tr>\n",
       "    <tr>\n",
       "      <th>2</th>\n",
       "      <td>2017</td>\n",
       "      <td>953662</td>\n",
       "      <td>57</td>\n",
       "      <td>ohio</td>\n",
       "      <td>0</td>\n",
       "      <td>yes, with a subscription to an internet service</td>\n",
       "      <td>yes (cable modem, fiber optic or dsl service)</td>\n",
       "      <td>3</td>\n",
       "      <td>78</td>\n",
       "      <td>child</td>\n",
       "      <td>female</td>\n",
       "      <td>9</td>\n",
       "      <td>white</td>\n",
       "      <td>not hispanic</td>\n",
       "    </tr>\n",
       "    <tr>\n",
       "      <th>3</th>\n",
       "      <td>2017</td>\n",
       "      <td>953668</td>\n",
       "      <td>140</td>\n",
       "      <td>ohio</td>\n",
       "      <td>61</td>\n",
       "      <td>yes, with a subscription to an internet service</td>\n",
       "      <td>yes (cable modem, fiber optic or dsl service)</td>\n",
       "      <td>1</td>\n",
       "      <td>140</td>\n",
       "      <td>head/householder</td>\n",
       "      <td>male</td>\n",
       "      <td>28</td>\n",
       "      <td>black/african american/negro</td>\n",
       "      <td>not hispanic</td>\n",
       "    </tr>\n",
       "    <tr>\n",
       "      <th>4</th>\n",
       "      <td>2017</td>\n",
       "      <td>953668</td>\n",
       "      <td>140</td>\n",
       "      <td>ohio</td>\n",
       "      <td>61</td>\n",
       "      <td>yes, with a subscription to an internet service</td>\n",
       "      <td>yes (cable modem, fiber optic or dsl service)</td>\n",
       "      <td>2</td>\n",
       "      <td>192</td>\n",
       "      <td>sibling</td>\n",
       "      <td>female</td>\n",
       "      <td>16</td>\n",
       "      <td>black/african american/negro</td>\n",
       "      <td>not hispanic</td>\n",
       "    </tr>\n",
       "  </tbody>\n",
       "</table>\n",
       "</div>"
      ],
      "text/plain": [
       "   year  serial  hhwt stateicp  countyfip  \\\n",
       "0  2017  953662    57     ohio          0   \n",
       "1  2017  953662    57     ohio          0   \n",
       "2  2017  953662    57     ohio          0   \n",
       "3  2017  953668   140     ohio         61   \n",
       "4  2017  953668   140     ohio         61   \n",
       "\n",
       "                                           cinethh  \\\n",
       "0  yes, with a subscription to an internet service   \n",
       "1  yes, with a subscription to an internet service   \n",
       "2  yes, with a subscription to an internet service   \n",
       "3  yes, with a subscription to an internet service   \n",
       "4  yes, with a subscription to an internet service   \n",
       "\n",
       "                                       cihispeed  pernum  perwt  \\\n",
       "0  yes (cable modem, fiber optic or dsl service)       1     58   \n",
       "1  yes (cable modem, fiber optic or dsl service)       2     62   \n",
       "2  yes (cable modem, fiber optic or dsl service)       3     78   \n",
       "3  yes (cable modem, fiber optic or dsl service)       1    140   \n",
       "4  yes (cable modem, fiber optic or dsl service)       2    192   \n",
       "\n",
       "             relate     sex age                          race        hispan  \n",
       "0  head/householder  female  48                         white  not hispanic  \n",
       "1             child    male  20                         white  not hispanic  \n",
       "2             child  female   9                         white  not hispanic  \n",
       "3  head/householder    male  28  black/african american/negro  not hispanic  \n",
       "4           sibling  female  16  black/african american/negro  not hispanic  "
      ]
     },
     "execution_count": 6,
     "metadata": {},
     "output_type": "execute_result"
    }
   ],
   "source": [
    "data.head()"
   ]
  },
  {
   "cell_type": "code",
   "execution_count": 7,
   "metadata": {},
   "outputs": [
    {
     "name": "stdout",
     "output_type": "stream",
     "text": [
      "<class 'pandas.core.frame.DataFrame'>\n",
      "Int64Index: 44816 entries, 0 to 44815\n",
      "Data columns (total 14 columns):\n",
      "year         44816 non-null category\n",
      "serial       44816 non-null int32\n",
      "hhwt         44816 non-null int16\n",
      "stateicp     44816 non-null category\n",
      "countyfip    44816 non-null int16\n",
      "cinethh      44816 non-null category\n",
      "cihispeed    44816 non-null category\n",
      "pernum       44816 non-null int8\n",
      "perwt        44816 non-null int16\n",
      "relate       44816 non-null category\n",
      "sex          44816 non-null category\n",
      "age          44816 non-null category\n",
      "race         44816 non-null category\n",
      "hispan       44816 non-null category\n",
      "dtypes: category(9), int16(3), int32(1), int8(1)\n",
      "memory usage: 1.2 MB\n"
     ]
    }
   ],
   "source": [
    "data.info()"
   ]
  },
  {
   "cell_type": "markdown",
   "metadata": {},
   "source": [
    "Our **unit of observation** is still a (weighted) person but we're interested in **household-level** data. \n",
    "\n",
    "From IPUMS docs:\n",
    ">HHWT indicates how many households in the U.S. population are represented by a given household in an IPUMS sample. <br><br>\n",
    ">It is generally a good idea to use HHWT when conducting a household-level analysis of any IPUMS sample. The use of HHWT is optional when analyzing one of the \"flat\" or unweighted IPUMS samples. Flat IPUMS samples include the 1% samples from 1850-1930, all samples from 1960, 1970, and 1980, the 1% unweighted samples from 1990 and 2000, the 10% 2010 sample, and any of the full count 100% census datasets. HHWT must be used to obtain nationally representative statistics for household-level analyses of any sample other than those.<br><br>\n",
    ">**Users should also be sure to select one person (e.g., PERNUM = 1) to represent the entire household.**"
   ]
  },
  {
   "cell_type": "markdown",
   "metadata": {},
   "source": [
    "STEPS:\n",
    "1. drop all observations were pernum != 1"
   ]
  },
  {
   "cell_type": "code",
   "execution_count": 8,
   "metadata": {},
   "outputs": [],
   "source": [
    "mask_household = (data['pernum'] == 1)"
   ]
  },
  {
   "cell_type": "code",
   "execution_count": 9,
   "metadata": {},
   "outputs": [
    {
     "data": {
      "text/plain": [
       "(11109, 14)"
      ]
     },
     "execution_count": 9,
     "metadata": {},
     "output_type": "execute_result"
    }
   ],
   "source": [
    "data[mask_household].shape"
   ]
  },
  {
   "cell_type": "code",
   "execution_count": 10,
   "metadata": {},
   "outputs": [],
   "source": [
    "# descriptive variable names\n",
    "households_in_state = data[mask_household].copy()"
   ]
  },
  {
   "cell_type": "markdown",
   "metadata": {},
   "source": [
    "Let's explore our internet variables"
   ]
  },
  {
   "cell_type": "code",
   "execution_count": 11,
   "metadata": {},
   "outputs": [
    {
     "data": {
      "text/plain": [
       "yes, with a subscription to an internet service                10442\n",
       "no internet access at this house, apartment, or mobile home      476\n",
       "yes, without a subscription to an internet service               191\n",
       "Name: cinethh, dtype: int64"
      ]
     },
     "execution_count": 11,
     "metadata": {},
     "output_type": "execute_result"
    }
   ],
   "source": [
    "households_in_state['cinethh'].value_counts()"
   ]
  },
  {
   "cell_type": "markdown",
   "metadata": {},
   "source": [
    "From IPUMS docs:\n",
    "\n",
    ">CINETHH reports whether any member of the household accesses the Internet. Here, \"access\" refers to whether or not someone in the household uses or connects to the Internet, regardless of whether or not they pay for the service."
   ]
  },
  {
   "cell_type": "code",
   "execution_count": 12,
   "metadata": {},
   "outputs": [
    {
     "data": {
      "text/plain": [
       "yes (cable modem, fiber optic or dsl service)    8920\n",
       "no                                               1522\n",
       "n/a (gq)                                          667\n",
       "Name: cihispeed, dtype: int64"
      ]
     },
     "execution_count": 12,
     "metadata": {},
     "output_type": "execute_result"
    }
   ],
   "source": [
    "households_in_state['cihispeed'].value_counts()"
   ]
  },
  {
   "cell_type": "markdown",
   "metadata": {},
   "source": [
    "From IPUMS docs:\n",
    ">CIHISPEED reports whether the respondent or any member of their household subscribed to the Internet using broadband (high speed) Internet service such as cable, fiber optic, or DSL service. <br><br>\n",
    ">User Note: The ACS 2016 introduced changes to the questions regarding computer use and Internet access. See the comparability section and questionnaire text for more information. Additional information provided by the Census Bureau regarding these question alterations are available in the report: ACS Content Test Shows Need to Update Terminology"
   ]
  },
  {
   "cell_type": "markdown",
   "metadata": {},
   "source": [
    "quick tip: `.value_counts()` has a normalize parameter:"
   ]
  },
  {
   "cell_type": "code",
   "execution_count": 13,
   "metadata": {},
   "outputs": [
    {
     "data": {
      "text/plain": [
       "\u001b[0;31mSignature:\u001b[0m\n",
       "\u001b[0mpd\u001b[0m\u001b[0;34m.\u001b[0m\u001b[0mSeries\u001b[0m\u001b[0;34m.\u001b[0m\u001b[0mvalue_counts\u001b[0m\u001b[0;34m(\u001b[0m\u001b[0;34m\u001b[0m\n",
       "\u001b[0;34m\u001b[0m    \u001b[0mself\u001b[0m\u001b[0;34m,\u001b[0m\u001b[0;34m\u001b[0m\n",
       "\u001b[0;34m\u001b[0m    \u001b[0mnormalize\u001b[0m\u001b[0;34m=\u001b[0m\u001b[0;32mFalse\u001b[0m\u001b[0;34m,\u001b[0m\u001b[0;34m\u001b[0m\n",
       "\u001b[0;34m\u001b[0m    \u001b[0msort\u001b[0m\u001b[0;34m=\u001b[0m\u001b[0;32mTrue\u001b[0m\u001b[0;34m,\u001b[0m\u001b[0;34m\u001b[0m\n",
       "\u001b[0;34m\u001b[0m    \u001b[0mascending\u001b[0m\u001b[0;34m=\u001b[0m\u001b[0;32mFalse\u001b[0m\u001b[0;34m,\u001b[0m\u001b[0;34m\u001b[0m\n",
       "\u001b[0;34m\u001b[0m    \u001b[0mbins\u001b[0m\u001b[0;34m=\u001b[0m\u001b[0;32mNone\u001b[0m\u001b[0;34m,\u001b[0m\u001b[0;34m\u001b[0m\n",
       "\u001b[0;34m\u001b[0m    \u001b[0mdropna\u001b[0m\u001b[0;34m=\u001b[0m\u001b[0;32mTrue\u001b[0m\u001b[0;34m,\u001b[0m\u001b[0;34m\u001b[0m\n",
       "\u001b[0;34m\u001b[0m\u001b[0;34m)\u001b[0m\u001b[0;34m\u001b[0m\u001b[0;34m\u001b[0m\u001b[0m\n",
       "\u001b[0;31mDocstring:\u001b[0m\n",
       "Return a Series containing counts of unique values.\n",
       "\n",
       "The resulting object will be in descending order so that the\n",
       "first element is the most frequently-occurring element.\n",
       "Excludes NA values by default.\n",
       "\n",
       "Parameters\n",
       "----------\n",
       "normalize : boolean, default False\n",
       "    If True then the object returned will contain the relative\n",
       "    frequencies of the unique values.\n",
       "sort : boolean, default True\n",
       "    Sort by values.\n",
       "ascending : boolean, default False\n",
       "    Sort in ascending order.\n",
       "bins : integer, optional\n",
       "    Rather than count values, group them into half-open bins,\n",
       "    a convenience for ``pd.cut``, only works with numeric data.\n",
       "dropna : boolean, default True\n",
       "    Don't include counts of NaN.\n",
       "\n",
       "Returns\n",
       "-------\n",
       "counts : Series\n",
       "\n",
       "See Also\n",
       "--------\n",
       "Series.count: Number of non-NA elements in a Series.\n",
       "DataFrame.count: Number of non-NA elements in a DataFrame.\n",
       "\n",
       "Examples\n",
       "--------\n",
       ">>> index = pd.Index([3, 1, 2, 3, 4, np.nan])\n",
       ">>> index.value_counts()\n",
       "3.0    2\n",
       "4.0    1\n",
       "2.0    1\n",
       "1.0    1\n",
       "dtype: int64\n",
       "\n",
       "With `normalize` set to `True`, returns the relative frequency by\n",
       "dividing all values by the sum of values.\n",
       "\n",
       ">>> s = pd.Series([3, 1, 2, 3, 4, np.nan])\n",
       ">>> s.value_counts(normalize=True)\n",
       "3.0    0.4\n",
       "4.0    0.2\n",
       "2.0    0.2\n",
       "1.0    0.2\n",
       "dtype: float64\n",
       "\n",
       "**bins**\n",
       "\n",
       "Bins can be useful for going from a continuous variable to a\n",
       "categorical variable; instead of counting unique\n",
       "apparitions of values, divide the index in the specified\n",
       "number of half-open bins.\n",
       "\n",
       ">>> s.value_counts(bins=3)\n",
       "(2.0, 3.0]      2\n",
       "(0.996, 2.0]    2\n",
       "(3.0, 4.0]      1\n",
       "dtype: int64\n",
       "\n",
       "**dropna**\n",
       "\n",
       "With `dropna` set to `False` we can also see NaN index values.\n",
       "\n",
       ">>> s.value_counts(dropna=False)\n",
       "3.0    2\n",
       "NaN    1\n",
       "4.0    1\n",
       "2.0    1\n",
       "1.0    1\n",
       "dtype: int64\n",
       "\u001b[0;31mFile:\u001b[0m      /anaconda3/envs/pycon/lib/python3.7/site-packages/pandas/core/base.py\n",
       "\u001b[0;31mType:\u001b[0m      function\n"
      ]
     },
     "metadata": {},
     "output_type": "display_data"
    }
   ],
   "source": [
    "pd.Series.value_counts?"
   ]
  },
  {
   "cell_type": "code",
   "execution_count": 14,
   "metadata": {},
   "outputs": [
    {
     "data": {
      "text/plain": [
       "yes (cable modem, fiber optic or dsl service)    0.802953\n",
       "no                                               0.137006\n",
       "n/a (gq)                                         0.060041\n",
       "Name: cihispeed, dtype: float64"
      ]
     },
     "execution_count": 14,
     "metadata": {},
     "output_type": "execute_result"
    }
   ],
   "source": [
    "households_in_state['cihispeed'].value_counts(normalize = True)"
   ]
  },
  {
   "cell_type": "code",
   "execution_count": 15,
   "metadata": {},
   "outputs": [
    {
     "data": {
      "text/plain": [
       "yes, with a subscription to an internet service                0.939959\n",
       "no internet access at this house, apartment, or mobile home    0.042848\n",
       "yes, without a subscription to an internet service             0.017193\n",
       "Name: cinethh, dtype: float64"
      ]
     },
     "execution_count": 15,
     "metadata": {},
     "output_type": "execute_result"
    }
   ],
   "source": [
    "households_in_state['cinethh'].value_counts(normalize = True)"
   ]
  },
  {
   "cell_type": "markdown",
   "metadata": {},
   "source": [
    "This however, does not help us with in this case because we are working with **weighted data**. These normalized values are based on number of observations (i.e. \"80% of our observations have access to high-speed internet). If each of our rows represented one person, then this would be very close to the end of our analysis. "
   ]
  },
  {
   "cell_type": "markdown",
   "metadata": {},
   "source": [
    "### Grouping and aggregating data"
   ]
  },
  {
   "cell_type": "markdown",
   "metadata": {},
   "source": [
    "What we want is to ___group___ our data by their `cihispeed` values and _add_ their `hhwt` (household weight) values to know how many households are in each category.\n",
    "\n",
    "we do this by using `.groupby()`"
   ]
  },
  {
   "cell_type": "code",
   "execution_count": 16,
   "metadata": {},
   "outputs": [
    {
     "name": "stdout",
     "output_type": "stream",
     "text": [
      "Object `california_households.groupby` not found.\n"
     ]
    }
   ],
   "source": [
    "california_households.groupby?"
   ]
  },
  {
   "cell_type": "code",
   "execution_count": 17,
   "metadata": {},
   "outputs": [
    {
     "data": {
      "text/plain": [
       "<pandas.core.groupby.generic.DataFrameGroupBy object at 0x114b5a710>"
      ]
     },
     "execution_count": 17,
     "metadata": {},
     "output_type": "execute_result"
    }
   ],
   "source": [
    "households_in_state.groupby(\"cihispeed\")"
   ]
  },
  {
   "cell_type": "markdown",
   "metadata": {},
   "source": [
    "From the [docs](http://pandas.pydata.org/pandas-docs/stable/user_guide/groupby.html)\n",
    "\n",
    ">A groupby operation involves some combination of splitting the\n",
    "object, __applying a function__, and combining the results. This can be\n",
    "used to group large amounts of data and compute operations on these\n",
    "groups.\n",
    "\n",
    "We have a groups, we need to apply a function to them."
   ]
  },
  {
   "cell_type": "code",
   "execution_count": 18,
   "metadata": {},
   "outputs": [
    {
     "data": {
      "text/html": [
       "<div>\n",
       "<style scoped>\n",
       "    .dataframe tbody tr th:only-of-type {\n",
       "        vertical-align: middle;\n",
       "    }\n",
       "\n",
       "    .dataframe tbody tr th {\n",
       "        vertical-align: top;\n",
       "    }\n",
       "\n",
       "    .dataframe thead th {\n",
       "        text-align: right;\n",
       "    }\n",
       "</style>\n",
       "<table border=\"1\" class=\"dataframe\">\n",
       "  <thead>\n",
       "    <tr style=\"text-align: right;\">\n",
       "      <th></th>\n",
       "      <th>serial</th>\n",
       "      <th>hhwt</th>\n",
       "      <th>countyfip</th>\n",
       "      <th>pernum</th>\n",
       "      <th>perwt</th>\n",
       "    </tr>\n",
       "    <tr>\n",
       "      <th>cihispeed</th>\n",
       "      <th></th>\n",
       "      <th></th>\n",
       "      <th></th>\n",
       "      <th></th>\n",
       "      <th></th>\n",
       "    </tr>\n",
       "  </thead>\n",
       "  <tbody>\n",
       "    <tr>\n",
       "      <th>n/a (gq)</th>\n",
       "      <td>6.521489e+08</td>\n",
       "      <td>79136.0</td>\n",
       "      <td>23214.0</td>\n",
       "      <td>667.0</td>\n",
       "      <td>79122.0</td>\n",
       "    </tr>\n",
       "    <tr>\n",
       "      <th>yes (cable modem, fiber optic or dsl service)</th>\n",
       "      <td>8.723978e+09</td>\n",
       "      <td>910268.0</td>\n",
       "      <td>375594.0</td>\n",
       "      <td>8920.0</td>\n",
       "      <td>910266.0</td>\n",
       "    </tr>\n",
       "    <tr>\n",
       "      <th>no</th>\n",
       "      <td>1.488372e+09</td>\n",
       "      <td>167114.0</td>\n",
       "      <td>47596.0</td>\n",
       "      <td>1522.0</td>\n",
       "      <td>167094.0</td>\n",
       "    </tr>\n",
       "  </tbody>\n",
       "</table>\n",
       "</div>"
      ],
      "text/plain": [
       "                                                     serial      hhwt  \\\n",
       "cihispeed                                                               \n",
       "n/a (gq)                                       6.521489e+08   79136.0   \n",
       "yes (cable modem, fiber optic or dsl service)  8.723978e+09  910268.0   \n",
       "no                                             1.488372e+09  167114.0   \n",
       "\n",
       "                                               countyfip  pernum     perwt  \n",
       "cihispeed                                                                   \n",
       "n/a (gq)                                         23214.0   667.0   79122.0  \n",
       "yes (cable modem, fiber optic or dsl service)   375594.0  8920.0  910266.0  \n",
       "no                                               47596.0  1522.0  167094.0  "
      ]
     },
     "execution_count": 18,
     "metadata": {},
     "output_type": "execute_result"
    }
   ],
   "source": [
    "households_in_state.groupby(\"cihispeed\").sum()"
   ]
  },
  {
   "cell_type": "markdown",
   "metadata": {},
   "source": [
    "But we don't want to apply it to the whole dataframe, we just want a column: `hhwt`, our households weight."
   ]
  },
  {
   "cell_type": "code",
   "execution_count": 19,
   "metadata": {},
   "outputs": [
    {
     "data": {
      "text/plain": [
       "cihispeed\n",
       "n/a (gq)                                          79136.0\n",
       "yes (cable modem, fiber optic or dsl service)    910268.0\n",
       "no                                               167114.0\n",
       "Name: hhwt, dtype: float64"
      ]
     },
     "execution_count": 19,
     "metadata": {},
     "output_type": "execute_result"
    }
   ],
   "source": [
    "households_in_state.groupby(\"cihispeed\")['hhwt'].sum()"
   ]
  },
  {
   "cell_type": "code",
   "execution_count": 20,
   "metadata": {},
   "outputs": [
    {
     "name": "stdout",
     "output_type": "stream",
     "text": [
      "\n",
      "We can see now 167,114.0 households in ohio have access to high-speed internet. But, out of how many?\n",
      "\n",
      "To make this easier to follow, let's save our results to a variable:\n",
      "\n"
     ]
    }
   ],
   "source": [
    "n_households = households_in_state.groupby(\"cihispeed\")['hhwt'].sum()[2]\n",
    "_state = households_in_state['stateicp'].unique()[0]\n",
    "print(f\"\"\"\n",
    "We can see now {n_households:,} households in {_state} have access to high-speed internet. But, out of how many?\n",
    "\n",
    "To make this easier to follow, let's save our results to a variable:\n",
    "\"\"\")"
   ]
  },
  {
   "cell_type": "code",
   "execution_count": 21,
   "metadata": {},
   "outputs": [
    {
     "data": {
      "text/plain": [
       "cihispeed\n",
       "n/a (gq)                                          79136.0\n",
       "yes (cable modem, fiber optic or dsl service)    910268.0\n",
       "no                                               167114.0\n",
       "Name: hhwt, dtype: float64"
      ]
     },
     "execution_count": 21,
     "metadata": {},
     "output_type": "execute_result"
    }
   ],
   "source": [
    "households_w_highspeed_access = households_in_state.groupby(\"cihispeed\")['hhwt'].sum()\n",
    "\n",
    "households_w_highspeed_access"
   ]
  },
  {
   "cell_type": "markdown",
   "metadata": {},
   "source": [
    "This is a pandas `Series` object and we can easily find the sum total of its values by applying `.sum()`"
   ]
  },
  {
   "cell_type": "code",
   "execution_count": 22,
   "metadata": {},
   "outputs": [
    {
     "data": {
      "text/plain": [
       "1156518.0"
      ]
     },
     "execution_count": 22,
     "metadata": {},
     "output_type": "execute_result"
    }
   ],
   "source": [
    "households_w_highspeed_access.sum()"
   ]
  },
  {
   "cell_type": "markdown",
   "metadata": {},
   "source": [
    "Now that's the total number of households in California in our sample. That's our denominator. \n",
    "\n",
    "When you apply an operator to pandas Series object you are applying it to each one of its elements."
   ]
  },
  {
   "cell_type": "code",
   "execution_count": 23,
   "metadata": {},
   "outputs": [
    {
     "data": {
      "text/plain": [
       "cihispeed\n",
       "n/a (gq)                                         5079136.0\n",
       "yes (cable modem, fiber optic or dsl service)    5910268.0\n",
       "no                                               5167114.0\n",
       "Name: hhwt, dtype: float64"
      ]
     },
     "execution_count": 23,
     "metadata": {},
     "output_type": "execute_result"
    }
   ],
   "source": [
    "households_w_highspeed_access + 5000000"
   ]
  },
  {
   "cell_type": "code",
   "execution_count": 24,
   "metadata": {},
   "outputs": [
    {
     "data": {
      "text/plain": [
       "cihispeed\n",
       "n/a (gq)                                         4.211143e+09\n",
       "yes (cable modem, fiber optic or dsl service)    4.843900e+10\n",
       "no                                               8.892804e+09\n",
       "Name: hhwt, dtype: float64"
      ]
     },
     "execution_count": 24,
     "metadata": {},
     "output_type": "execute_result"
    }
   ],
   "source": [
    "households_w_highspeed_access * 53214"
   ]
  },
  {
   "cell_type": "markdown",
   "metadata": {},
   "source": [
    "So we can divide our Series of 3 values by the total number of households in California and get its share of the total"
   ]
  },
  {
   "cell_type": "code",
   "execution_count": 25,
   "metadata": {},
   "outputs": [
    {
     "data": {
      "text/plain": [
       "cihispeed\n",
       "n/a (gq)                                         0.068426\n",
       "yes (cable modem, fiber optic or dsl service)    0.787076\n",
       "no                                               0.144498\n",
       "Name: hhwt, dtype: float64"
      ]
     },
     "execution_count": 25,
     "metadata": {},
     "output_type": "execute_result"
    }
   ],
   "source": [
    "households_w_highspeed_access / households_w_highspeed_access.sum()"
   ]
  },
  {
   "cell_type": "markdown",
   "metadata": {},
   "source": [
    "From IPUMS [docs](https://usa.ipums.org/usa-action/variables/CIHISPEED#universe_section):\n",
    "\n",
    ">**Universe** <br>\n",
    "    ACS, PRCS: Not in group quarters"
   ]
  },
  {
   "cell_type": "markdown",
   "metadata": {},
   "source": [
    "# On your own\n",
    "1. Filter out those **out** of your Universe. i.e \"Out of all **households**, what share has access to high-speed internet?\"\n",
    "\n",
    "the value `n/a (gq)` means the ACS already flagged this _household_ (what we thought was a household) as a group quarter. So we can just drop those and see what the %s are."
   ]
  },
  {
   "cell_type": "code",
   "execution_count": 26,
   "metadata": {},
   "outputs": [
    {
     "data": {
      "text/html": [
       "<div>\n",
       "<style scoped>\n",
       "    .dataframe tbody tr th:only-of-type {\n",
       "        vertical-align: middle;\n",
       "    }\n",
       "\n",
       "    .dataframe tbody tr th {\n",
       "        vertical-align: top;\n",
       "    }\n",
       "\n",
       "    .dataframe thead th {\n",
       "        text-align: right;\n",
       "    }\n",
       "</style>\n",
       "<table border=\"1\" class=\"dataframe\">\n",
       "  <thead>\n",
       "    <tr style=\"text-align: right;\">\n",
       "      <th></th>\n",
       "      <th>year</th>\n",
       "      <th>serial</th>\n",
       "      <th>hhwt</th>\n",
       "      <th>stateicp</th>\n",
       "      <th>countyfip</th>\n",
       "      <th>cinethh</th>\n",
       "      <th>cihispeed</th>\n",
       "      <th>pernum</th>\n",
       "      <th>perwt</th>\n",
       "      <th>relate</th>\n",
       "      <th>sex</th>\n",
       "      <th>age</th>\n",
       "      <th>race</th>\n",
       "      <th>hispan</th>\n",
       "    </tr>\n",
       "  </thead>\n",
       "  <tbody>\n",
       "    <tr>\n",
       "      <th>0</th>\n",
       "      <td>2017</td>\n",
       "      <td>953662</td>\n",
       "      <td>57</td>\n",
       "      <td>ohio</td>\n",
       "      <td>0</td>\n",
       "      <td>yes, with a subscription to an internet service</td>\n",
       "      <td>yes (cable modem, fiber optic or dsl service)</td>\n",
       "      <td>1</td>\n",
       "      <td>58</td>\n",
       "      <td>head/householder</td>\n",
       "      <td>female</td>\n",
       "      <td>48</td>\n",
       "      <td>white</td>\n",
       "      <td>not hispanic</td>\n",
       "    </tr>\n",
       "    <tr>\n",
       "      <th>3</th>\n",
       "      <td>2017</td>\n",
       "      <td>953668</td>\n",
       "      <td>140</td>\n",
       "      <td>ohio</td>\n",
       "      <td>61</td>\n",
       "      <td>yes, with a subscription to an internet service</td>\n",
       "      <td>yes (cable modem, fiber optic or dsl service)</td>\n",
       "      <td>1</td>\n",
       "      <td>140</td>\n",
       "      <td>head/householder</td>\n",
       "      <td>male</td>\n",
       "      <td>28</td>\n",
       "      <td>black/african american/negro</td>\n",
       "      <td>not hispanic</td>\n",
       "    </tr>\n",
       "    <tr>\n",
       "      <th>6</th>\n",
       "      <td>2017</td>\n",
       "      <td>953671</td>\n",
       "      <td>135</td>\n",
       "      <td>ohio</td>\n",
       "      <td>0</td>\n",
       "      <td>yes, with a subscription to an internet service</td>\n",
       "      <td>no</td>\n",
       "      <td>1</td>\n",
       "      <td>134</td>\n",
       "      <td>head/householder</td>\n",
       "      <td>female</td>\n",
       "      <td>35</td>\n",
       "      <td>black/african american/negro</td>\n",
       "      <td>not hispanic</td>\n",
       "    </tr>\n",
       "    <tr>\n",
       "      <th>9</th>\n",
       "      <td>2017</td>\n",
       "      <td>953685</td>\n",
       "      <td>46</td>\n",
       "      <td>ohio</td>\n",
       "      <td>35</td>\n",
       "      <td>yes, with a subscription to an internet service</td>\n",
       "      <td>yes (cable modem, fiber optic or dsl service)</td>\n",
       "      <td>1</td>\n",
       "      <td>45</td>\n",
       "      <td>head/householder</td>\n",
       "      <td>male</td>\n",
       "      <td>56</td>\n",
       "      <td>white</td>\n",
       "      <td>not hispanic</td>\n",
       "    </tr>\n",
       "    <tr>\n",
       "      <th>12</th>\n",
       "      <td>2017</td>\n",
       "      <td>953690</td>\n",
       "      <td>151</td>\n",
       "      <td>ohio</td>\n",
       "      <td>113</td>\n",
       "      <td>yes, with a subscription to an internet service</td>\n",
       "      <td>yes (cable modem, fiber optic or dsl service)</td>\n",
       "      <td>1</td>\n",
       "      <td>151</td>\n",
       "      <td>head/householder</td>\n",
       "      <td>male</td>\n",
       "      <td>42</td>\n",
       "      <td>white</td>\n",
       "      <td>not hispanic</td>\n",
       "    </tr>\n",
       "  </tbody>\n",
       "</table>\n",
       "</div>"
      ],
      "text/plain": [
       "    year  serial  hhwt stateicp  countyfip  \\\n",
       "0   2017  953662    57     ohio          0   \n",
       "3   2017  953668   140     ohio         61   \n",
       "6   2017  953671   135     ohio          0   \n",
       "9   2017  953685    46     ohio         35   \n",
       "12  2017  953690   151     ohio        113   \n",
       "\n",
       "                                            cinethh  \\\n",
       "0   yes, with a subscription to an internet service   \n",
       "3   yes, with a subscription to an internet service   \n",
       "6   yes, with a subscription to an internet service   \n",
       "9   yes, with a subscription to an internet service   \n",
       "12  yes, with a subscription to an internet service   \n",
       "\n",
       "                                        cihispeed  pernum  perwt  \\\n",
       "0   yes (cable modem, fiber optic or dsl service)       1     58   \n",
       "3   yes (cable modem, fiber optic or dsl service)       1    140   \n",
       "6                                              no       1    134   \n",
       "9   yes (cable modem, fiber optic or dsl service)       1     45   \n",
       "12  yes (cable modem, fiber optic or dsl service)       1    151   \n",
       "\n",
       "              relate     sex age                          race        hispan  \n",
       "0   head/householder  female  48                         white  not hispanic  \n",
       "3   head/householder    male  28  black/african american/negro  not hispanic  \n",
       "6   head/householder  female  35  black/african american/negro  not hispanic  \n",
       "9   head/householder    male  56                         white  not hispanic  \n",
       "12  head/householder    male  42                         white  not hispanic  "
      ]
     },
     "execution_count": 26,
     "metadata": {},
     "output_type": "execute_result"
    }
   ],
   "source": [
    "households_in_state.head()"
   ]
  },
  {
   "cell_type": "markdown",
   "metadata": {},
   "source": [
    "From IPUMS [docs](https://usa.ipums.org/usa-action/source_documents/enum_form_ACS(2016)_tag.xml#51) you will learn that n/a includes those that access the internet but without paying for a subscription.\n"
   ]
  },
  {
   "cell_type": "code",
   "execution_count": 27,
   "metadata": {},
   "outputs": [
    {
     "data": {
      "text/html": [
       "<div>\n",
       "<style scoped>\n",
       "    .dataframe tbody tr th:only-of-type {\n",
       "        vertical-align: middle;\n",
       "    }\n",
       "\n",
       "    .dataframe tbody tr th {\n",
       "        vertical-align: top;\n",
       "    }\n",
       "\n",
       "    .dataframe thead th {\n",
       "        text-align: right;\n",
       "    }\n",
       "</style>\n",
       "<table border=\"1\" class=\"dataframe\">\n",
       "  <thead>\n",
       "    <tr style=\"text-align: right;\">\n",
       "      <th></th>\n",
       "      <th></th>\n",
       "      <th>hhwt</th>\n",
       "    </tr>\n",
       "    <tr>\n",
       "      <th>cinethh</th>\n",
       "      <th>cihispeed</th>\n",
       "      <th></th>\n",
       "    </tr>\n",
       "  </thead>\n",
       "  <tbody>\n",
       "    <tr>\n",
       "      <th rowspan=\"3\" valign=\"top\">yes, with a subscription to an internet service</th>\n",
       "      <th>n/a (gq)</th>\n",
       "      <td>NaN</td>\n",
       "    </tr>\n",
       "    <tr>\n",
       "      <th>yes (cable modem, fiber optic or dsl service)</th>\n",
       "      <td>0.787076</td>\n",
       "    </tr>\n",
       "    <tr>\n",
       "      <th>no</th>\n",
       "      <td>0.144498</td>\n",
       "    </tr>\n",
       "    <tr>\n",
       "      <th rowspan=\"3\" valign=\"top\">yes, without a subscription to an internet service</th>\n",
       "      <th>n/a (gq)</th>\n",
       "      <td>0.018273</td>\n",
       "    </tr>\n",
       "    <tr>\n",
       "      <th>yes (cable modem, fiber optic or dsl service)</th>\n",
       "      <td>NaN</td>\n",
       "    </tr>\n",
       "    <tr>\n",
       "      <th>no</th>\n",
       "      <td>NaN</td>\n",
       "    </tr>\n",
       "    <tr>\n",
       "      <th rowspan=\"3\" valign=\"top\">no internet access at this house, apartment, or mobile home</th>\n",
       "      <th>n/a (gq)</th>\n",
       "      <td>0.050153</td>\n",
       "    </tr>\n",
       "    <tr>\n",
       "      <th>yes (cable modem, fiber optic or dsl service)</th>\n",
       "      <td>NaN</td>\n",
       "    </tr>\n",
       "    <tr>\n",
       "      <th>no</th>\n",
       "      <td>NaN</td>\n",
       "    </tr>\n",
       "  </tbody>\n",
       "</table>\n",
       "</div>"
      ],
      "text/plain": [
       "                                                                                                      hhwt\n",
       "cinethh                                            cihispeed                                              \n",
       "yes, with a subscription to an internet service    n/a (gq)                                            NaN\n",
       "                                                   yes (cable modem, fiber optic or dsl service)  0.787076\n",
       "                                                   no                                             0.144498\n",
       "yes, without a subscription to an internet service n/a (gq)                                       0.018273\n",
       "                                                   yes (cable modem, fiber optic or dsl service)       NaN\n",
       "                                                   no                                                  NaN\n",
       "no internet access at this house, apartment, or... n/a (gq)                                       0.050153\n",
       "                                                   yes (cable modem, fiber optic or dsl service)       NaN\n",
       "                                                   no                                                  NaN"
      ]
     },
     "execution_count": 27,
     "metadata": {},
     "output_type": "execute_result"
    }
   ],
   "source": [
    "households_in_state.groupby(['cinethh', 'cihispeed',])[['hhwt']].sum() / households_in_state.groupby(['cinethh', 'cihispeed',])[['hhwt']].sum().sum()"
   ]
  },
  {
   "cell_type": "code",
   "execution_count": null,
   "metadata": {},
   "outputs": [],
   "source": []
  },
  {
   "cell_type": "markdown",
   "metadata": {},
   "source": [
    "## Part 2 of Analysis: Creating derived variables\n",
    "\n",
    "Right now, through groupby, you could find out what are the high-speed internet access rates by race/ethnicity, but it might be a little too much:"
   ]
  },
  {
   "cell_type": "code",
   "execution_count": 28,
   "metadata": {},
   "outputs": [
    {
     "data": {
      "text/html": [
       "<div>\n",
       "<style scoped>\n",
       "    .dataframe tbody tr th:only-of-type {\n",
       "        vertical-align: middle;\n",
       "    }\n",
       "\n",
       "    .dataframe tbody tr th {\n",
       "        vertical-align: top;\n",
       "    }\n",
       "\n",
       "    .dataframe thead th {\n",
       "        text-align: right;\n",
       "    }\n",
       "</style>\n",
       "<table border=\"1\" class=\"dataframe\">\n",
       "  <thead>\n",
       "    <tr style=\"text-align: right;\">\n",
       "      <th></th>\n",
       "      <th></th>\n",
       "      <th>hhwt</th>\n",
       "    </tr>\n",
       "    <tr>\n",
       "      <th>race</th>\n",
       "      <th>cihispeed</th>\n",
       "      <th></th>\n",
       "    </tr>\n",
       "  </thead>\n",
       "  <tbody>\n",
       "    <tr>\n",
       "      <th rowspan=\"3\" valign=\"top\">white</th>\n",
       "      <th>n/a (gq)</th>\n",
       "      <td>57742.0</td>\n",
       "    </tr>\n",
       "    <tr>\n",
       "      <th>yes (cable modem, fiber optic or dsl service)</th>\n",
       "      <td>742182.0</td>\n",
       "    </tr>\n",
       "    <tr>\n",
       "      <th>no</th>\n",
       "      <td>124811.0</td>\n",
       "    </tr>\n",
       "    <tr>\n",
       "      <th rowspan=\"3\" valign=\"top\">black/african american/negro</th>\n",
       "      <th>n/a (gq)</th>\n",
       "      <td>15443.0</td>\n",
       "    </tr>\n",
       "    <tr>\n",
       "      <th>yes (cable modem, fiber optic or dsl service)</th>\n",
       "      <td>114753.0</td>\n",
       "    </tr>\n",
       "    <tr>\n",
       "      <th>no</th>\n",
       "      <td>31265.0</td>\n",
       "    </tr>\n",
       "    <tr>\n",
       "      <th rowspan=\"3\" valign=\"top\">american indian or alaska native</th>\n",
       "      <th>n/a (gq)</th>\n",
       "      <td>60.0</td>\n",
       "    </tr>\n",
       "    <tr>\n",
       "      <th>yes (cable modem, fiber optic or dsl service)</th>\n",
       "      <td>1842.0</td>\n",
       "    </tr>\n",
       "    <tr>\n",
       "      <th>no</th>\n",
       "      <td>529.0</td>\n",
       "    </tr>\n",
       "    <tr>\n",
       "      <th rowspan=\"3\" valign=\"top\">chinese</th>\n",
       "      <th>n/a (gq)</th>\n",
       "      <td>117.0</td>\n",
       "    </tr>\n",
       "    <tr>\n",
       "      <th>yes (cable modem, fiber optic or dsl service)</th>\n",
       "      <td>3233.0</td>\n",
       "    </tr>\n",
       "    <tr>\n",
       "      <th>no</th>\n",
       "      <td>553.0</td>\n",
       "    </tr>\n",
       "    <tr>\n",
       "      <th rowspan=\"3\" valign=\"top\">japanese</th>\n",
       "      <th>n/a (gq)</th>\n",
       "      <td>NaN</td>\n",
       "    </tr>\n",
       "    <tr>\n",
       "      <th>yes (cable modem, fiber optic or dsl service)</th>\n",
       "      <td>1069.0</td>\n",
       "    </tr>\n",
       "    <tr>\n",
       "      <th>no</th>\n",
       "      <td>NaN</td>\n",
       "    </tr>\n",
       "    <tr>\n",
       "      <th rowspan=\"3\" valign=\"top\">other asian or pacific islander</th>\n",
       "      <th>n/a (gq)</th>\n",
       "      <td>1055.0</td>\n",
       "    </tr>\n",
       "    <tr>\n",
       "      <th>yes (cable modem, fiber optic or dsl service)</th>\n",
       "      <td>20233.0</td>\n",
       "    </tr>\n",
       "    <tr>\n",
       "      <th>no</th>\n",
       "      <td>1619.0</td>\n",
       "    </tr>\n",
       "    <tr>\n",
       "      <th rowspan=\"3\" valign=\"top\">other race, nec</th>\n",
       "      <th>n/a (gq)</th>\n",
       "      <td>2064.0</td>\n",
       "    </tr>\n",
       "    <tr>\n",
       "      <th>yes (cable modem, fiber optic or dsl service)</th>\n",
       "      <td>8790.0</td>\n",
       "    </tr>\n",
       "    <tr>\n",
       "      <th>no</th>\n",
       "      <td>4432.0</td>\n",
       "    </tr>\n",
       "    <tr>\n",
       "      <th rowspan=\"3\" valign=\"top\">two major races</th>\n",
       "      <th>n/a (gq)</th>\n",
       "      <td>2576.0</td>\n",
       "    </tr>\n",
       "    <tr>\n",
       "      <th>yes (cable modem, fiber optic or dsl service)</th>\n",
       "      <td>15299.0</td>\n",
       "    </tr>\n",
       "    <tr>\n",
       "      <th>no</th>\n",
       "      <td>3331.0</td>\n",
       "    </tr>\n",
       "    <tr>\n",
       "      <th rowspan=\"3\" valign=\"top\">three or more major races</th>\n",
       "      <th>n/a (gq)</th>\n",
       "      <td>79.0</td>\n",
       "    </tr>\n",
       "    <tr>\n",
       "      <th>yes (cable modem, fiber optic or dsl service)</th>\n",
       "      <td>2867.0</td>\n",
       "    </tr>\n",
       "    <tr>\n",
       "      <th>no</th>\n",
       "      <td>574.0</td>\n",
       "    </tr>\n",
       "  </tbody>\n",
       "</table>\n",
       "</div>"
      ],
      "text/plain": [
       "                                                                                    hhwt\n",
       "race                             cihispeed                                              \n",
       "white                            n/a (gq)                                        57742.0\n",
       "                                 yes (cable modem, fiber optic or dsl service)  742182.0\n",
       "                                 no                                             124811.0\n",
       "black/african american/negro     n/a (gq)                                        15443.0\n",
       "                                 yes (cable modem, fiber optic or dsl service)  114753.0\n",
       "                                 no                                              31265.0\n",
       "american indian or alaska native n/a (gq)                                           60.0\n",
       "                                 yes (cable modem, fiber optic or dsl service)    1842.0\n",
       "                                 no                                                529.0\n",
       "chinese                          n/a (gq)                                          117.0\n",
       "                                 yes (cable modem, fiber optic or dsl service)    3233.0\n",
       "                                 no                                                553.0\n",
       "japanese                         n/a (gq)                                            NaN\n",
       "                                 yes (cable modem, fiber optic or dsl service)    1069.0\n",
       "                                 no                                                  NaN\n",
       "other asian or pacific islander  n/a (gq)                                         1055.0\n",
       "                                 yes (cable modem, fiber optic or dsl service)   20233.0\n",
       "                                 no                                               1619.0\n",
       "other race, nec                  n/a (gq)                                         2064.0\n",
       "                                 yes (cable modem, fiber optic or dsl service)    8790.0\n",
       "                                 no                                               4432.0\n",
       "two major races                  n/a (gq)                                         2576.0\n",
       "                                 yes (cable modem, fiber optic or dsl service)   15299.0\n",
       "                                 no                                               3331.0\n",
       "three or more major races        n/a (gq)                                           79.0\n",
       "                                 yes (cable modem, fiber optic or dsl service)    2867.0\n",
       "                                 no                                                574.0"
      ]
     },
     "execution_count": 28,
     "metadata": {},
     "output_type": "execute_result"
    }
   ],
   "source": [
    "households_in_state.groupby(['race', 'cihispeed',])[['hhwt']].sum()"
   ]
  },
  {
   "cell_type": "code",
   "execution_count": 29,
   "metadata": {},
   "outputs": [
    {
     "data": {
      "text/html": [
       "<div>\n",
       "<style scoped>\n",
       "    .dataframe tbody tr th:only-of-type {\n",
       "        vertical-align: middle;\n",
       "    }\n",
       "\n",
       "    .dataframe tbody tr th {\n",
       "        vertical-align: top;\n",
       "    }\n",
       "\n",
       "    .dataframe thead th {\n",
       "        text-align: right;\n",
       "    }\n",
       "</style>\n",
       "<table border=\"1\" class=\"dataframe\">\n",
       "  <thead>\n",
       "    <tr style=\"text-align: right;\">\n",
       "      <th></th>\n",
       "      <th></th>\n",
       "      <th></th>\n",
       "      <th>hhwt</th>\n",
       "    </tr>\n",
       "    <tr>\n",
       "      <th>hispan</th>\n",
       "      <th>race</th>\n",
       "      <th>cihispeed</th>\n",
       "      <th></th>\n",
       "    </tr>\n",
       "  </thead>\n",
       "  <tbody>\n",
       "    <tr>\n",
       "      <th rowspan=\"27\" valign=\"top\">not hispanic</th>\n",
       "      <th rowspan=\"3\" valign=\"top\">white</th>\n",
       "      <th>n/a (gq)</th>\n",
       "      <td>55415.0</td>\n",
       "    </tr>\n",
       "    <tr>\n",
       "      <th>yes (cable modem, fiber optic or dsl service)</th>\n",
       "      <td>717266.0</td>\n",
       "    </tr>\n",
       "    <tr>\n",
       "      <th>no</th>\n",
       "      <td>118725.0</td>\n",
       "    </tr>\n",
       "    <tr>\n",
       "      <th rowspan=\"3\" valign=\"top\">black/african american/negro</th>\n",
       "      <th>n/a (gq)</th>\n",
       "      <td>15254.0</td>\n",
       "    </tr>\n",
       "    <tr>\n",
       "      <th>yes (cable modem, fiber optic or dsl service)</th>\n",
       "      <td>114289.0</td>\n",
       "    </tr>\n",
       "    <tr>\n",
       "      <th>no</th>\n",
       "      <td>30805.0</td>\n",
       "    </tr>\n",
       "    <tr>\n",
       "      <th rowspan=\"3\" valign=\"top\">american indian or alaska native</th>\n",
       "      <th>n/a (gq)</th>\n",
       "      <td>60.0</td>\n",
       "    </tr>\n",
       "    <tr>\n",
       "      <th>yes (cable modem, fiber optic or dsl service)</th>\n",
       "      <td>1140.0</td>\n",
       "    </tr>\n",
       "    <tr>\n",
       "      <th>no</th>\n",
       "      <td>529.0</td>\n",
       "    </tr>\n",
       "    <tr>\n",
       "      <th rowspan=\"3\" valign=\"top\">chinese</th>\n",
       "      <th>n/a (gq)</th>\n",
       "      <td>117.0</td>\n",
       "    </tr>\n",
       "    <tr>\n",
       "      <th>yes (cable modem, fiber optic or dsl service)</th>\n",
       "      <td>3233.0</td>\n",
       "    </tr>\n",
       "    <tr>\n",
       "      <th>no</th>\n",
       "      <td>553.0</td>\n",
       "    </tr>\n",
       "    <tr>\n",
       "      <th rowspan=\"3\" valign=\"top\">japanese</th>\n",
       "      <th>n/a (gq)</th>\n",
       "      <td>NaN</td>\n",
       "    </tr>\n",
       "    <tr>\n",
       "      <th>yes (cable modem, fiber optic or dsl service)</th>\n",
       "      <td>1069.0</td>\n",
       "    </tr>\n",
       "    <tr>\n",
       "      <th>no</th>\n",
       "      <td>NaN</td>\n",
       "    </tr>\n",
       "    <tr>\n",
       "      <th rowspan=\"3\" valign=\"top\">other asian or pacific islander</th>\n",
       "      <th>n/a (gq)</th>\n",
       "      <td>1055.0</td>\n",
       "    </tr>\n",
       "    <tr>\n",
       "      <th>yes (cable modem, fiber optic or dsl service)</th>\n",
       "      <td>20233.0</td>\n",
       "    </tr>\n",
       "    <tr>\n",
       "      <th>no</th>\n",
       "      <td>1619.0</td>\n",
       "    </tr>\n",
       "    <tr>\n",
       "      <th rowspan=\"3\" valign=\"top\">other race, nec</th>\n",
       "      <th>n/a (gq)</th>\n",
       "      <td>287.0</td>\n",
       "    </tr>\n",
       "    <tr>\n",
       "      <th>yes (cable modem, fiber optic or dsl service)</th>\n",
       "      <td>488.0</td>\n",
       "    </tr>\n",
       "    <tr>\n",
       "      <th>no</th>\n",
       "      <td>949.0</td>\n",
       "    </tr>\n",
       "    <tr>\n",
       "      <th rowspan=\"3\" valign=\"top\">two major races</th>\n",
       "      <th>n/a (gq)</th>\n",
       "      <td>2461.0</td>\n",
       "    </tr>\n",
       "    <tr>\n",
       "      <th>yes (cable modem, fiber optic or dsl service)</th>\n",
       "      <td>13549.0</td>\n",
       "    </tr>\n",
       "    <tr>\n",
       "      <th>no</th>\n",
       "      <td>2992.0</td>\n",
       "    </tr>\n",
       "    <tr>\n",
       "      <th rowspan=\"3\" valign=\"top\">three or more major races</th>\n",
       "      <th>n/a (gq)</th>\n",
       "      <td>79.0</td>\n",
       "    </tr>\n",
       "    <tr>\n",
       "      <th>yes (cable modem, fiber optic or dsl service)</th>\n",
       "      <td>1900.0</td>\n",
       "    </tr>\n",
       "    <tr>\n",
       "      <th>no</th>\n",
       "      <td>529.0</td>\n",
       "    </tr>\n",
       "    <tr>\n",
       "      <th rowspan=\"3\" valign=\"top\">mexican</th>\n",
       "      <th rowspan=\"3\" valign=\"top\">white</th>\n",
       "      <th>n/a (gq)</th>\n",
       "      <td>927.0</td>\n",
       "    </tr>\n",
       "    <tr>\n",
       "      <th>yes (cable modem, fiber optic or dsl service)</th>\n",
       "      <td>11296.0</td>\n",
       "    </tr>\n",
       "    <tr>\n",
       "      <th>no</th>\n",
       "      <td>2054.0</td>\n",
       "    </tr>\n",
       "    <tr>\n",
       "      <th>...</th>\n",
       "      <th>...</th>\n",
       "      <th>...</th>\n",
       "      <td>...</td>\n",
       "    </tr>\n",
       "    <tr>\n",
       "      <th rowspan=\"3\" valign=\"top\">cuban</th>\n",
       "      <th rowspan=\"3\" valign=\"top\">three or more major races</th>\n",
       "      <th>n/a (gq)</th>\n",
       "      <td>NaN</td>\n",
       "    </tr>\n",
       "    <tr>\n",
       "      <th>yes (cable modem, fiber optic or dsl service)</th>\n",
       "      <td>NaN</td>\n",
       "    </tr>\n",
       "    <tr>\n",
       "      <th>no</th>\n",
       "      <td>NaN</td>\n",
       "    </tr>\n",
       "    <tr>\n",
       "      <th rowspan=\"27\" valign=\"top\">other</th>\n",
       "      <th rowspan=\"3\" valign=\"top\">white</th>\n",
       "      <th>n/a (gq)</th>\n",
       "      <td>281.0</td>\n",
       "    </tr>\n",
       "    <tr>\n",
       "      <th>yes (cable modem, fiber optic or dsl service)</th>\n",
       "      <td>5793.0</td>\n",
       "    </tr>\n",
       "    <tr>\n",
       "      <th>no</th>\n",
       "      <td>1108.0</td>\n",
       "    </tr>\n",
       "    <tr>\n",
       "      <th rowspan=\"3\" valign=\"top\">black/african american/negro</th>\n",
       "      <th>n/a (gq)</th>\n",
       "      <td>NaN</td>\n",
       "    </tr>\n",
       "    <tr>\n",
       "      <th>yes (cable modem, fiber optic or dsl service)</th>\n",
       "      <td>253.0</td>\n",
       "    </tr>\n",
       "    <tr>\n",
       "      <th>no</th>\n",
       "      <td>231.0</td>\n",
       "    </tr>\n",
       "    <tr>\n",
       "      <th rowspan=\"3\" valign=\"top\">american indian or alaska native</th>\n",
       "      <th>n/a (gq)</th>\n",
       "      <td>NaN</td>\n",
       "    </tr>\n",
       "    <tr>\n",
       "      <th>yes (cable modem, fiber optic or dsl service)</th>\n",
       "      <td>491.0</td>\n",
       "    </tr>\n",
       "    <tr>\n",
       "      <th>no</th>\n",
       "      <td>NaN</td>\n",
       "    </tr>\n",
       "    <tr>\n",
       "      <th rowspan=\"3\" valign=\"top\">chinese</th>\n",
       "      <th>n/a (gq)</th>\n",
       "      <td>NaN</td>\n",
       "    </tr>\n",
       "    <tr>\n",
       "      <th>yes (cable modem, fiber optic or dsl service)</th>\n",
       "      <td>NaN</td>\n",
       "    </tr>\n",
       "    <tr>\n",
       "      <th>no</th>\n",
       "      <td>NaN</td>\n",
       "    </tr>\n",
       "    <tr>\n",
       "      <th rowspan=\"3\" valign=\"top\">japanese</th>\n",
       "      <th>n/a (gq)</th>\n",
       "      <td>NaN</td>\n",
       "    </tr>\n",
       "    <tr>\n",
       "      <th>yes (cable modem, fiber optic or dsl service)</th>\n",
       "      <td>NaN</td>\n",
       "    </tr>\n",
       "    <tr>\n",
       "      <th>no</th>\n",
       "      <td>NaN</td>\n",
       "    </tr>\n",
       "    <tr>\n",
       "      <th rowspan=\"3\" valign=\"top\">other asian or pacific islander</th>\n",
       "      <th>n/a (gq)</th>\n",
       "      <td>NaN</td>\n",
       "    </tr>\n",
       "    <tr>\n",
       "      <th>yes (cable modem, fiber optic or dsl service)</th>\n",
       "      <td>NaN</td>\n",
       "    </tr>\n",
       "    <tr>\n",
       "      <th>no</th>\n",
       "      <td>NaN</td>\n",
       "    </tr>\n",
       "    <tr>\n",
       "      <th rowspan=\"3\" valign=\"top\">other race, nec</th>\n",
       "      <th>n/a (gq)</th>\n",
       "      <td>177.0</td>\n",
       "    </tr>\n",
       "    <tr>\n",
       "      <th>yes (cable modem, fiber optic or dsl service)</th>\n",
       "      <td>2119.0</td>\n",
       "    </tr>\n",
       "    <tr>\n",
       "      <th>no</th>\n",
       "      <td>76.0</td>\n",
       "    </tr>\n",
       "    <tr>\n",
       "      <th rowspan=\"3\" valign=\"top\">two major races</th>\n",
       "      <th>n/a (gq)</th>\n",
       "      <td>63.0</td>\n",
       "    </tr>\n",
       "    <tr>\n",
       "      <th>yes (cable modem, fiber optic or dsl service)</th>\n",
       "      <td>598.0</td>\n",
       "    </tr>\n",
       "    <tr>\n",
       "      <th>no</th>\n",
       "      <td>NaN</td>\n",
       "    </tr>\n",
       "    <tr>\n",
       "      <th rowspan=\"3\" valign=\"top\">three or more major races</th>\n",
       "      <th>n/a (gq)</th>\n",
       "      <td>NaN</td>\n",
       "    </tr>\n",
       "    <tr>\n",
       "      <th>yes (cable modem, fiber optic or dsl service)</th>\n",
       "      <td>NaN</td>\n",
       "    </tr>\n",
       "    <tr>\n",
       "      <th>no</th>\n",
       "      <td>NaN</td>\n",
       "    </tr>\n",
       "  </tbody>\n",
       "</table>\n",
       "<p>135 rows × 1 columns</p>\n",
       "</div>"
      ],
      "text/plain": [
       "                                                                                                 hhwt\n",
       "hispan       race                             cihispeed                                              \n",
       "not hispanic white                            n/a (gq)                                        55415.0\n",
       "                                              yes (cable modem, fiber optic or dsl service)  717266.0\n",
       "                                              no                                             118725.0\n",
       "             black/african american/negro     n/a (gq)                                        15254.0\n",
       "                                              yes (cable modem, fiber optic or dsl service)  114289.0\n",
       "                                              no                                              30805.0\n",
       "             american indian or alaska native n/a (gq)                                           60.0\n",
       "                                              yes (cable modem, fiber optic or dsl service)    1140.0\n",
       "                                              no                                                529.0\n",
       "             chinese                          n/a (gq)                                          117.0\n",
       "                                              yes (cable modem, fiber optic or dsl service)    3233.0\n",
       "                                              no                                                553.0\n",
       "             japanese                         n/a (gq)                                            NaN\n",
       "                                              yes (cable modem, fiber optic or dsl service)    1069.0\n",
       "                                              no                                                  NaN\n",
       "             other asian or pacific islander  n/a (gq)                                         1055.0\n",
       "                                              yes (cable modem, fiber optic or dsl service)   20233.0\n",
       "                                              no                                               1619.0\n",
       "             other race, nec                  n/a (gq)                                          287.0\n",
       "                                              yes (cable modem, fiber optic or dsl service)     488.0\n",
       "                                              no                                                949.0\n",
       "             two major races                  n/a (gq)                                         2461.0\n",
       "                                              yes (cable modem, fiber optic or dsl service)   13549.0\n",
       "                                              no                                               2992.0\n",
       "             three or more major races        n/a (gq)                                           79.0\n",
       "                                              yes (cable modem, fiber optic or dsl service)    1900.0\n",
       "                                              no                                                529.0\n",
       "mexican      white                            n/a (gq)                                          927.0\n",
       "                                              yes (cable modem, fiber optic or dsl service)   11296.0\n",
       "                                              no                                               2054.0\n",
       "...                                                                                               ...\n",
       "cuban        three or more major races        n/a (gq)                                            NaN\n",
       "                                              yes (cable modem, fiber optic or dsl service)       NaN\n",
       "                                              no                                                  NaN\n",
       "other        white                            n/a (gq)                                          281.0\n",
       "                                              yes (cable modem, fiber optic or dsl service)    5793.0\n",
       "                                              no                                               1108.0\n",
       "             black/african american/negro     n/a (gq)                                            NaN\n",
       "                                              yes (cable modem, fiber optic or dsl service)     253.0\n",
       "                                              no                                                231.0\n",
       "             american indian or alaska native n/a (gq)                                            NaN\n",
       "                                              yes (cable modem, fiber optic or dsl service)     491.0\n",
       "                                              no                                                  NaN\n",
       "             chinese                          n/a (gq)                                            NaN\n",
       "                                              yes (cable modem, fiber optic or dsl service)       NaN\n",
       "                                              no                                                  NaN\n",
       "             japanese                         n/a (gq)                                            NaN\n",
       "                                              yes (cable modem, fiber optic or dsl service)       NaN\n",
       "                                              no                                                  NaN\n",
       "             other asian or pacific islander  n/a (gq)                                            NaN\n",
       "                                              yes (cable modem, fiber optic or dsl service)       NaN\n",
       "                                              no                                                  NaN\n",
       "             other race, nec                  n/a (gq)                                          177.0\n",
       "                                              yes (cable modem, fiber optic or dsl service)    2119.0\n",
       "                                              no                                                 76.0\n",
       "             two major races                  n/a (gq)                                           63.0\n",
       "                                              yes (cable modem, fiber optic or dsl service)     598.0\n",
       "                                              no                                                  NaN\n",
       "             three or more major races        n/a (gq)                                            NaN\n",
       "                                              yes (cable modem, fiber optic or dsl service)       NaN\n",
       "                                              no                                                  NaN\n",
       "\n",
       "[135 rows x 1 columns]"
      ]
     },
     "execution_count": 29,
     "metadata": {},
     "output_type": "execute_result"
    }
   ],
   "source": [
    "households_in_state.groupby(['hispan','race', 'cihispeed',])[['hhwt']].sum()"
   ]
  },
  {
   "cell_type": "code",
   "execution_count": 30,
   "metadata": {},
   "outputs": [],
   "source": [
    "mask_latino = (households_in_state['hispan'] != 'not hispanic')\n",
    "mask_white = (households_in_state['hispan'] == 'not hispanic') & (households_in_state['race'] == 'white')\n",
    "mask_native = (households_in_state['hispan'] == 'not hispanic') & (households_in_state['race'] == 'american indian or alaska native')\n",
    "mask_black = (households_in_state['hispan'] == 'not hispanic') & (households_in_state['race'].str.contains('black'))"
   ]
  },
  {
   "cell_type": "code",
   "execution_count": 31,
   "metadata": {},
   "outputs": [],
   "source": [
    "# Categorical way"
   ]
  },
  {
   "cell_type": "code",
   "execution_count": 32,
   "metadata": {},
   "outputs": [
    {
     "data": {
      "text/plain": [
       "[white, black/african american/negro, two major races, other asian or pacific islander, three or more major races, american indian or alaska native, other race, nec, chinese, japanese]\n",
       "Categories (9, object): [white < black/african american/negro < american indian or alaska native < chinese ... other asian or pacific islander < other race, nec < two major races < three or more major races]"
      ]
     },
     "execution_count": 32,
     "metadata": {},
     "output_type": "execute_result"
    }
   ],
   "source": [
    "households_in_state['race'].unique()"
   ]
  },
  {
   "cell_type": "code",
   "execution_count": 33,
   "metadata": {},
   "outputs": [
    {
     "data": {
      "text/plain": [
       "Index(['white', 'black/african american/negro',\n",
       "       'american indian or alaska native', 'chinese', 'japanese',\n",
       "       'other asian or pacific islander', 'other race, nec', 'two major races',\n",
       "       'three or more major races'],\n",
       "      dtype='object')"
      ]
     },
     "execution_count": 33,
     "metadata": {},
     "output_type": "execute_result"
    }
   ],
   "source": [
    "households_in_state['race'].cat.categories"
   ]
  },
  {
   "cell_type": "code",
   "execution_count": 34,
   "metadata": {},
   "outputs": [],
   "source": [
    "mask_API = (households_in_state['hispan'] == 'not hispanic') & ((households_in_state['race'] >= 'chinese') & (households_in_state['race'] <= 'other asian or pacific islander'))"
   ]
  },
  {
   "cell_type": "code",
   "execution_count": 35,
   "metadata": {},
   "outputs": [],
   "source": [
    "mask_other = (households_in_state['hispan'] == 'not hispanic') & (households_in_state['race'] >= 'other race, nec')"
   ]
  },
  {
   "cell_type": "code",
   "execution_count": 36,
   "metadata": {},
   "outputs": [],
   "source": [
    "# add label\n",
    "households_in_state.loc[mask_latino, 'race-ethnicity'] = 'Latino'\n",
    "households_in_state.loc[mask_white, 'race-ethnicity'] = 'White'\n",
    "households_in_state.loc[mask_black, 'race-ethnicity'] = 'Black'\n",
    "households_in_state.loc[mask_native, 'race-ethnicity'] = 'American Indian / Alaska Native'\n",
    "households_in_state.loc[mask_API, 'race-ethnicity'] = 'Asian / Pacific Islander'\n",
    "households_in_state.loc[mask_other, 'race-ethnicity'] = 'Other / 2+ races'"
   ]
  },
  {
   "cell_type": "code",
   "execution_count": 37,
   "metadata": {},
   "outputs": [
    {
     "data": {
      "text/plain": [
       "0"
      ]
     },
     "execution_count": 37,
     "metadata": {},
     "output_type": "execute_result"
    }
   ],
   "source": [
    "#check \n",
    "households_in_state['race-ethnicity'].isna().sum()"
   ]
  },
  {
   "cell_type": "code",
   "execution_count": 38,
   "metadata": {},
   "outputs": [
    {
     "data": {
      "text/html": [
       "<div>\n",
       "<style scoped>\n",
       "    .dataframe tbody tr th:only-of-type {\n",
       "        vertical-align: middle;\n",
       "    }\n",
       "\n",
       "    .dataframe tbody tr th {\n",
       "        vertical-align: top;\n",
       "    }\n",
       "\n",
       "    .dataframe thead th {\n",
       "        text-align: right;\n",
       "    }\n",
       "</style>\n",
       "<table border=\"1\" class=\"dataframe\">\n",
       "  <thead>\n",
       "    <tr style=\"text-align: right;\">\n",
       "      <th></th>\n",
       "      <th></th>\n",
       "      <th>hhwt</th>\n",
       "    </tr>\n",
       "    <tr>\n",
       "      <th>race-ethnicity</th>\n",
       "      <th>cihispeed</th>\n",
       "      <th></th>\n",
       "    </tr>\n",
       "  </thead>\n",
       "  <tbody>\n",
       "    <tr>\n",
       "      <th rowspan=\"3\" valign=\"top\">American Indian / Alaska Native</th>\n",
       "      <th>n/a (gq)</th>\n",
       "      <td>60.0</td>\n",
       "    </tr>\n",
       "    <tr>\n",
       "      <th>yes (cable modem, fiber optic or dsl service)</th>\n",
       "      <td>1140.0</td>\n",
       "    </tr>\n",
       "    <tr>\n",
       "      <th>no</th>\n",
       "      <td>529.0</td>\n",
       "    </tr>\n",
       "    <tr>\n",
       "      <th rowspan=\"3\" valign=\"top\">Asian / Pacific Islander</th>\n",
       "      <th>n/a (gq)</th>\n",
       "      <td>1172.0</td>\n",
       "    </tr>\n",
       "    <tr>\n",
       "      <th>yes (cable modem, fiber optic or dsl service)</th>\n",
       "      <td>24535.0</td>\n",
       "    </tr>\n",
       "    <tr>\n",
       "      <th>no</th>\n",
       "      <td>2172.0</td>\n",
       "    </tr>\n",
       "    <tr>\n",
       "      <th rowspan=\"3\" valign=\"top\">Black</th>\n",
       "      <th>n/a (gq)</th>\n",
       "      <td>15254.0</td>\n",
       "    </tr>\n",
       "    <tr>\n",
       "      <th>yes (cable modem, fiber optic or dsl service)</th>\n",
       "      <td>114289.0</td>\n",
       "    </tr>\n",
       "    <tr>\n",
       "      <th>no</th>\n",
       "      <td>30805.0</td>\n",
       "    </tr>\n",
       "    <tr>\n",
       "      <th rowspan=\"3\" valign=\"top\">Latino</th>\n",
       "      <th>n/a (gq)</th>\n",
       "      <td>4408.0</td>\n",
       "    </tr>\n",
       "    <tr>\n",
       "      <th>yes (cable modem, fiber optic or dsl service)</th>\n",
       "      <td>37101.0</td>\n",
       "    </tr>\n",
       "    <tr>\n",
       "      <th>no</th>\n",
       "      <td>10413.0</td>\n",
       "    </tr>\n",
       "    <tr>\n",
       "      <th rowspan=\"3\" valign=\"top\">Other / 2+ races</th>\n",
       "      <th>n/a (gq)</th>\n",
       "      <td>2827.0</td>\n",
       "    </tr>\n",
       "    <tr>\n",
       "      <th>yes (cable modem, fiber optic or dsl service)</th>\n",
       "      <td>15937.0</td>\n",
       "    </tr>\n",
       "    <tr>\n",
       "      <th>no</th>\n",
       "      <td>4470.0</td>\n",
       "    </tr>\n",
       "    <tr>\n",
       "      <th rowspan=\"3\" valign=\"top\">White</th>\n",
       "      <th>n/a (gq)</th>\n",
       "      <td>55415.0</td>\n",
       "    </tr>\n",
       "    <tr>\n",
       "      <th>yes (cable modem, fiber optic or dsl service)</th>\n",
       "      <td>717266.0</td>\n",
       "    </tr>\n",
       "    <tr>\n",
       "      <th>no</th>\n",
       "      <td>118725.0</td>\n",
       "    </tr>\n",
       "  </tbody>\n",
       "</table>\n",
       "</div>"
      ],
      "text/plain": [
       "                                                                                   hhwt\n",
       "race-ethnicity                  cihispeed                                              \n",
       "American Indian / Alaska Native n/a (gq)                                           60.0\n",
       "                                yes (cable modem, fiber optic or dsl service)    1140.0\n",
       "                                no                                                529.0\n",
       "Asian / Pacific Islander        n/a (gq)                                         1172.0\n",
       "                                yes (cable modem, fiber optic or dsl service)   24535.0\n",
       "                                no                                               2172.0\n",
       "Black                           n/a (gq)                                        15254.0\n",
       "                                yes (cable modem, fiber optic or dsl service)  114289.0\n",
       "                                no                                              30805.0\n",
       "Latino                          n/a (gq)                                         4408.0\n",
       "                                yes (cable modem, fiber optic or dsl service)   37101.0\n",
       "                                no                                              10413.0\n",
       "Other / 2+ races                n/a (gq)                                         2827.0\n",
       "                                yes (cable modem, fiber optic or dsl service)   15937.0\n",
       "                                no                                               4470.0\n",
       "White                           n/a (gq)                                        55415.0\n",
       "                                yes (cable modem, fiber optic or dsl service)  717266.0\n",
       "                                no                                             118725.0"
      ]
     },
     "execution_count": 38,
     "metadata": {},
     "output_type": "execute_result"
    }
   ],
   "source": [
    "households_in_state.groupby(['race-ethnicity', 'cihispeed'])[['hhwt']].sum()"
   ]
  },
  {
   "cell_type": "code",
   "execution_count": 39,
   "metadata": {},
   "outputs": [
    {
     "data": {
      "text/html": [
       "<div>\n",
       "<style scoped>\n",
       "    .dataframe tbody tr th:only-of-type {\n",
       "        vertical-align: middle;\n",
       "    }\n",
       "\n",
       "    .dataframe tbody tr th {\n",
       "        vertical-align: top;\n",
       "    }\n",
       "\n",
       "    .dataframe thead th {\n",
       "        text-align: right;\n",
       "    }\n",
       "</style>\n",
       "<table border=\"1\" class=\"dataframe\">\n",
       "  <thead>\n",
       "    <tr style=\"text-align: right;\">\n",
       "      <th></th>\n",
       "      <th></th>\n",
       "      <th>hhwt</th>\n",
       "    </tr>\n",
       "    <tr>\n",
       "      <th>race-ethnicity</th>\n",
       "      <th>cihispeed</th>\n",
       "      <th></th>\n",
       "    </tr>\n",
       "  </thead>\n",
       "  <tbody>\n",
       "    <tr>\n",
       "      <th rowspan=\"3\" valign=\"top\">American Indian / Alaska Native</th>\n",
       "      <th>n/a (gq)</th>\n",
       "      <td>0.034702</td>\n",
       "    </tr>\n",
       "    <tr>\n",
       "      <th>yes (cable modem, fiber optic or dsl service)</th>\n",
       "      <td>0.659341</td>\n",
       "    </tr>\n",
       "    <tr>\n",
       "      <th>no</th>\n",
       "      <td>0.305957</td>\n",
       "    </tr>\n",
       "    <tr>\n",
       "      <th rowspan=\"3\" valign=\"top\">Asian / Pacific Islander</th>\n",
       "      <th>n/a (gq)</th>\n",
       "      <td>0.042039</td>\n",
       "    </tr>\n",
       "    <tr>\n",
       "      <th>yes (cable modem, fiber optic or dsl service)</th>\n",
       "      <td>0.880053</td>\n",
       "    </tr>\n",
       "    <tr>\n",
       "      <th>no</th>\n",
       "      <td>0.077908</td>\n",
       "    </tr>\n",
       "    <tr>\n",
       "      <th rowspan=\"3\" valign=\"top\">Black</th>\n",
       "      <th>n/a (gq)</th>\n",
       "      <td>0.095131</td>\n",
       "    </tr>\n",
       "    <tr>\n",
       "      <th>yes (cable modem, fiber optic or dsl service)</th>\n",
       "      <td>0.712756</td>\n",
       "    </tr>\n",
       "    <tr>\n",
       "      <th>no</th>\n",
       "      <td>0.192113</td>\n",
       "    </tr>\n",
       "    <tr>\n",
       "      <th rowspan=\"3\" valign=\"top\">Latino</th>\n",
       "      <th>n/a (gq)</th>\n",
       "      <td>0.084897</td>\n",
       "    </tr>\n",
       "    <tr>\n",
       "      <th>yes (cable modem, fiber optic or dsl service)</th>\n",
       "      <td>0.714553</td>\n",
       "    </tr>\n",
       "    <tr>\n",
       "      <th>no</th>\n",
       "      <td>0.200551</td>\n",
       "    </tr>\n",
       "    <tr>\n",
       "      <th rowspan=\"3\" valign=\"top\">Other / 2+ races</th>\n",
       "      <th>n/a (gq)</th>\n",
       "      <td>0.121675</td>\n",
       "    </tr>\n",
       "    <tr>\n",
       "      <th>yes (cable modem, fiber optic or dsl service)</th>\n",
       "      <td>0.685934</td>\n",
       "    </tr>\n",
       "    <tr>\n",
       "      <th>no</th>\n",
       "      <td>0.192390</td>\n",
       "    </tr>\n",
       "    <tr>\n",
       "      <th rowspan=\"3\" valign=\"top\">White</th>\n",
       "      <th>n/a (gq)</th>\n",
       "      <td>0.062166</td>\n",
       "    </tr>\n",
       "    <tr>\n",
       "      <th>yes (cable modem, fiber optic or dsl service)</th>\n",
       "      <td>0.804646</td>\n",
       "    </tr>\n",
       "    <tr>\n",
       "      <th>no</th>\n",
       "      <td>0.133188</td>\n",
       "    </tr>\n",
       "  </tbody>\n",
       "</table>\n",
       "</div>"
      ],
      "text/plain": [
       "                                                                                   hhwt\n",
       "race-ethnicity                  cihispeed                                              \n",
       "American Indian / Alaska Native n/a (gq)                                       0.034702\n",
       "                                yes (cable modem, fiber optic or dsl service)  0.659341\n",
       "                                no                                             0.305957\n",
       "Asian / Pacific Islander        n/a (gq)                                       0.042039\n",
       "                                yes (cable modem, fiber optic or dsl service)  0.880053\n",
       "                                no                                             0.077908\n",
       "Black                           n/a (gq)                                       0.095131\n",
       "                                yes (cable modem, fiber optic or dsl service)  0.712756\n",
       "                                no                                             0.192113\n",
       "Latino                          n/a (gq)                                       0.084897\n",
       "                                yes (cable modem, fiber optic or dsl service)  0.714553\n",
       "                                no                                             0.200551\n",
       "Other / 2+ races                n/a (gq)                                       0.121675\n",
       "                                yes (cable modem, fiber optic or dsl service)  0.685934\n",
       "                                no                                             0.192390\n",
       "White                           n/a (gq)                                       0.062166\n",
       "                                yes (cable modem, fiber optic or dsl service)  0.804646\n",
       "                                no                                             0.133188"
      ]
     },
     "execution_count": 39,
     "metadata": {},
     "output_type": "execute_result"
    }
   ],
   "source": [
    "households_in_state.groupby(['race-ethnicity', 'cihispeed'])[['hhwt']].sum() / households_in_state.groupby(['race-ethnicity'])[['hhwt']].sum()"
   ]
  }
 ],
 "metadata": {
  "kernelspec": {
   "display_name": "Python 3",
   "language": "python",
   "name": "python3"
  },
  "language_info": {
   "codemirror_mode": {
    "name": "ipython",
    "version": 3
   },
   "file_extension": ".py",
   "mimetype": "text/x-python",
   "name": "python",
   "nbconvert_exporter": "python",
   "pygments_lexer": "ipython3",
   "version": "3.7.3"
  }
 },
 "nbformat": 4,
 "nbformat_minor": 2
}

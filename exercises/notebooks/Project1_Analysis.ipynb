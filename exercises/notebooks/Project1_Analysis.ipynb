{
 "cells": [
  {
   "cell_type": "markdown",
   "metadata": {},
   "source": [
    "# Project 1: Digital Divide\n",
    "### Data Analysis\n",
    "\n",
    "#### Based on PPIC's Just the Facts report [\"California's Digital Divide\"](https://www.ppic.org/publication/californias-digital-divide/)"
   ]
  },
  {
   "cell_type": "markdown",
   "metadata": {},
   "source": [
    "## Research Question(s):\n",
    "1. What share households with school-age children in X state have access to high-speed internet? \n",
    "2. Does this number vary across demographic groups? (in this case race/ethnicity)."
   ]
  },
  {
   "cell_type": "markdown",
   "metadata": {},
   "source": [
    "## Goal:\n",
    "* Use our `working-data dataset` (created in [Project1_Data_Prep.ipynb](Project1_Data_Prep.ipynb) notebook) to answer our research questions."
   ]
  },
  {
   "cell_type": "markdown",
   "metadata": {},
   "source": [
    "## Context:\n",
    "* Write yourself a description of the context: Include a description of the data (_data set contains X state's data for YYYY year_)"
   ]
  },
  {
   "cell_type": "markdown",
   "metadata": {},
   "source": [
    "***"
   ]
  },
  {
   "cell_type": "markdown",
   "metadata": {},
   "source": [
    "#### Step 1: Set up your working environment.\n",
    "\n",
    "Import all necessary libraries and create `Path`s to your data directories. This ensures reproducibility across file systems (windows uses `\\` instead of `/`)"
   ]
  },
  {
   "cell_type": "markdown",
   "metadata": {},
   "source": [
    "We need \n",
    "1. `pandas` to work with the data.\n",
    "2. `pathlib`, and more specifically its `Path` object, to work with paths. This will ensure our code works in both Windows (which uses `\\` in its file paths) and MacOS/Linux (which uses `/`).\n",
    "3. `datetime` - tip: There are version control systems for data but tagging your data files with the date is not a bad first step if you're getting started.\n",
    "4. `tree` - to display a directory's tree."
   ]
  },
  {
   "cell_type": "code",
   "execution_count": 1,
   "metadata": {},
   "outputs": [
    {
     "name": "stdout",
     "output_type": "stream",
     "text": [
      "27-Apr-19\n"
     ]
    }
   ],
   "source": [
    "# setting up working environment\n",
    "import _____ as pd\n",
    "from _____ import Path\n",
    "from tools import _________\n",
    "from ______ import _______ as dt\n",
    "today = dt.______()._______(\"%_-%_-%_\")\n",
    "\n",
    "print(today)"
   ]
  },
  {
   "cell_type": "code",
   "execution_count": 2,
   "metadata": {},
   "outputs": [],
   "source": [
    "# data folder and paths\n",
    "RAW_DATA_PATH = ____(\"../data/raw/\")\n",
    "XXXX_XXXXX_XXXX = ____(\"../data/interim/\")\n",
    "YYYY_YYYYY_YYYY = ____(\"../data/processed/\")\n",
    "ZZZZ_ZZZZZ_ZZZZ = ____(\"../data/final/\")"
   ]
  },
  {
   "cell_type": "code",
   "execution_count": null,
   "metadata": {},
   "outputs": [],
   "source": [
    "tree(INTERIM_DATA_PATH)"
   ]
  },
  {
   "cell_type": "code",
   "execution_count": 4,
   "metadata": {},
   "outputs": [],
   "source": [
    "data = pd.read_stata(INTERIM_DATA_FOLDER / f'working_dataset-{today}.dta')"
   ]
  },
  {
   "cell_type": "code",
   "execution_count": 5,
   "metadata": {},
   "outputs": [
    {
     "data": {
      "text/plain": [
       "(44816, 14)"
      ]
     },
     "execution_count": 5,
     "metadata": {},
     "output_type": "execute_result"
    }
   ],
   "source": [
    "data._______"
   ]
  },
  {
   "cell_type": "code",
   "execution_count": 6,
   "metadata": {},
   "outputs": [
    {
     "data": {
      "text/html": [
       "<div>\n",
       "<style scoped>\n",
       "    .dataframe tbody tr th:only-of-type {\n",
       "        vertical-align: middle;\n",
       "    }\n",
       "\n",
       "    .dataframe tbody tr th {\n",
       "        vertical-align: top;\n",
       "    }\n",
       "\n",
       "    .dataframe thead th {\n",
       "        text-align: right;\n",
       "    }\n",
       "</style>\n",
       "<table border=\"1\" class=\"dataframe\">\n",
       "  <thead>\n",
       "    <tr style=\"text-align: right;\">\n",
       "      <th></th>\n",
       "      <th>year</th>\n",
       "      <th>serial</th>\n",
       "      <th>hhwt</th>\n",
       "      <th>stateicp</th>\n",
       "      <th>countyfip</th>\n",
       "      <th>cinethh</th>\n",
       "      <th>cihispeed</th>\n",
       "      <th>pernum</th>\n",
       "      <th>perwt</th>\n",
       "      <th>relate</th>\n",
       "      <th>sex</th>\n",
       "      <th>age</th>\n",
       "      <th>race</th>\n",
       "      <th>hispan</th>\n",
       "    </tr>\n",
       "  </thead>\n",
       "  <tbody>\n",
       "    <tr>\n",
       "      <th>0</th>\n",
       "      <td>2017</td>\n",
       "      <td>953662</td>\n",
       "      <td>57</td>\n",
       "      <td>ohio</td>\n",
       "      <td>0</td>\n",
       "      <td>yes, with a subscription to an internet service</td>\n",
       "      <td>yes (cable modem, fiber optic or dsl service)</td>\n",
       "      <td>1</td>\n",
       "      <td>58</td>\n",
       "      <td>head/householder</td>\n",
       "      <td>female</td>\n",
       "      <td>48</td>\n",
       "      <td>white</td>\n",
       "      <td>not hispanic</td>\n",
       "    </tr>\n",
       "    <tr>\n",
       "      <th>1</th>\n",
       "      <td>2017</td>\n",
       "      <td>953662</td>\n",
       "      <td>57</td>\n",
       "      <td>ohio</td>\n",
       "      <td>0</td>\n",
       "      <td>yes, with a subscription to an internet service</td>\n",
       "      <td>yes (cable modem, fiber optic or dsl service)</td>\n",
       "      <td>2</td>\n",
       "      <td>62</td>\n",
       "      <td>child</td>\n",
       "      <td>male</td>\n",
       "      <td>20</td>\n",
       "      <td>white</td>\n",
       "      <td>not hispanic</td>\n",
       "    </tr>\n",
       "    <tr>\n",
       "      <th>2</th>\n",
       "      <td>2017</td>\n",
       "      <td>953662</td>\n",
       "      <td>57</td>\n",
       "      <td>ohio</td>\n",
       "      <td>0</td>\n",
       "      <td>yes, with a subscription to an internet service</td>\n",
       "      <td>yes (cable modem, fiber optic or dsl service)</td>\n",
       "      <td>3</td>\n",
       "      <td>78</td>\n",
       "      <td>child</td>\n",
       "      <td>female</td>\n",
       "      <td>9</td>\n",
       "      <td>white</td>\n",
       "      <td>not hispanic</td>\n",
       "    </tr>\n",
       "    <tr>\n",
       "      <th>3</th>\n",
       "      <td>2017</td>\n",
       "      <td>953668</td>\n",
       "      <td>140</td>\n",
       "      <td>ohio</td>\n",
       "      <td>61</td>\n",
       "      <td>yes, with a subscription to an internet service</td>\n",
       "      <td>yes (cable modem, fiber optic or dsl service)</td>\n",
       "      <td>1</td>\n",
       "      <td>140</td>\n",
       "      <td>head/householder</td>\n",
       "      <td>male</td>\n",
       "      <td>28</td>\n",
       "      <td>black/african american/negro</td>\n",
       "      <td>not hispanic</td>\n",
       "    </tr>\n",
       "    <tr>\n",
       "      <th>4</th>\n",
       "      <td>2017</td>\n",
       "      <td>953668</td>\n",
       "      <td>140</td>\n",
       "      <td>ohio</td>\n",
       "      <td>61</td>\n",
       "      <td>yes, with a subscription to an internet service</td>\n",
       "      <td>yes (cable modem, fiber optic or dsl service)</td>\n",
       "      <td>2</td>\n",
       "      <td>192</td>\n",
       "      <td>sibling</td>\n",
       "      <td>female</td>\n",
       "      <td>16</td>\n",
       "      <td>black/african american/negro</td>\n",
       "      <td>not hispanic</td>\n",
       "    </tr>\n",
       "  </tbody>\n",
       "</table>\n",
       "</div>"
      ],
      "text/plain": [
       "   year  serial  hhwt stateicp  countyfip  \\\n",
       "0  2017  953662    57     ohio          0   \n",
       "1  2017  953662    57     ohio          0   \n",
       "2  2017  953662    57     ohio          0   \n",
       "3  2017  953668   140     ohio         61   \n",
       "4  2017  953668   140     ohio         61   \n",
       "\n",
       "                                           cinethh  \\\n",
       "0  yes, with a subscription to an internet service   \n",
       "1  yes, with a subscription to an internet service   \n",
       "2  yes, with a subscription to an internet service   \n",
       "3  yes, with a subscription to an internet service   \n",
       "4  yes, with a subscription to an internet service   \n",
       "\n",
       "                                       cihispeed  pernum  perwt  \\\n",
       "0  yes (cable modem, fiber optic or dsl service)       1     58   \n",
       "1  yes (cable modem, fiber optic or dsl service)       2     62   \n",
       "2  yes (cable modem, fiber optic or dsl service)       3     78   \n",
       "3  yes (cable modem, fiber optic or dsl service)       1    140   \n",
       "4  yes (cable modem, fiber optic or dsl service)       2    192   \n",
       "\n",
       "             relate     sex age                          race        hispan  \n",
       "0  head/householder  female  48                         white  not hispanic  \n",
       "1             child    male  20                         white  not hispanic  \n",
       "2             child  female   9                         white  not hispanic  \n",
       "3  head/householder    male  28  black/african american/negro  not hispanic  \n",
       "4           sibling  female  16  black/african american/negro  not hispanic  "
      ]
     },
     "execution_count": 6,
     "metadata": {},
     "output_type": "execute_result"
    }
   ],
   "source": [
    "data._______()"
   ]
  },
  {
   "cell_type": "code",
   "execution_count": 7,
   "metadata": {},
   "outputs": [
    {
     "name": "stdout",
     "output_type": "stream",
     "text": [
      "<class 'pandas.core.frame.DataFrame'>\n",
      "Int64Index: 44816 entries, 0 to 44815\n",
      "Data columns (total 14 columns):\n",
      "year         44816 non-null category\n",
      "serial       44816 non-null int32\n",
      "hhwt         44816 non-null int16\n",
      "stateicp     44816 non-null category\n",
      "countyfip    44816 non-null int16\n",
      "cinethh      44816 non-null category\n",
      "cihispeed    44816 non-null category\n",
      "pernum       44816 non-null int8\n",
      "perwt        44816 non-null int16\n",
      "relate       44816 non-null category\n",
      "sex          44816 non-null category\n",
      "age          44816 non-null category\n",
      "race         44816 non-null category\n",
      "hispan       44816 non-null category\n",
      "dtypes: category(9), int16(3), int32(1), int8(1)\n",
      "memory usage: 1.2 MB\n"
     ]
    }
   ],
   "source": [
    "data._____()"
   ]
  },
  {
   "cell_type": "code",
   "execution_count": null,
   "metadata": {},
   "outputs": [],
   "source": []
  }
 ],
 "metadata": {
  "kernelspec": {
   "display_name": "Python 3",
   "language": "python",
   "name": "python3"
  },
  "language_info": {
   "codemirror_mode": {
    "name": "ipython",
    "version": 3
   },
   "file_extension": ".py",
   "mimetype": "text/x-python",
   "name": "python",
   "nbconvert_exporter": "python",
   "pygments_lexer": "ipython3",
   "version": "3.7.3"
  }
 },
 "nbformat": 4,
 "nbformat_minor": 2
}

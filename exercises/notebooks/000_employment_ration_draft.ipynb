{
 "cells": [
  {
   "cell_type": "markdown",
   "metadata": {},
   "source": [
    "# Age Adjustment\n",
    "\n",
    "Hans explained what age standarization Brookings used.\n",
    "\n",
    "| $Group$  | $Age$    | $Actual$ $t_1$   | $Actual$   $t_2$ | $counterfactual$ |\n",
    "|:--------:|---------|:---------------------:|:---------------------:|:----------------:|\n",
    "|    $A$   | $16-24$ | $\\frac{emp_{1,A}}{pop_{1,A}}$ | $\\frac{emp_{2,A}}{pop_{2,A}}$ | $\\frac{emp_{1,A}}{pop_{1,A}} * pop_{2,A}$ | \n",
    "|    $B$   | $25-34$ | $\\frac{emp_{1,b}}{pop_{1,B}}$ | $\\frac{emp_{2,B}}{pop_{2,B}}$ | $\\frac{emp_{1,B}}{pop_{1,B}} * pop_{2,B}$ | \n",
    "|    $C$   | $35-44$ | $\\frac{emp_{1,C}}{pop_{1,C}}$ | $\\frac{emp_{2,C}}{pop_{2,C}}$ | $\\frac{emp_{1,C}}{pop_{1,C}} * pop_{2,C}$ | \n",
    "|    $D$   | $45-54$ | $\\frac{emp_{1,D}}{pop_{1,D}}$ | $\\frac{emp_{2,D}}{pop_{2,D}}$ | $\\frac{emp_{1,D}}{pop_{1,D}} * pop_{2,D}$ | \n",
    "|    $E$   | $55+$   | $\\frac{emp_{1,E}}{pop_{1,E}}$ | $\\frac{emp_{2,E}}{pop_{2,E}}$ | $\\frac{emp_{1,E}}{pop_{1,E}} * pop_{2,E}$ | \n",
    "\n",
    "Variables: <br>\n",
    "$pop$ = population <br>\n",
    "$emp_{1,A}$ = employement-to-population rate at $time_1$ for group $A$\n",
    "\n",
    "$t_1$ will be 2007, our year to compare to. "
   ]
  },
  {
   "cell_type": "markdown",
   "metadata": {},
   "source": [
    "***\n",
    "__Set up__"
   ]
  },
  {
   "cell_type": "code",
   "execution_count": 1,
   "metadata": {},
   "outputs": [],
   "source": [
    "import pandas as pd"
   ]
  },
  {
   "cell_type": "markdown",
   "metadata": {},
   "source": [
    "***\n",
    "We will start with one group to set up the model.\n",
    "\n",
    "We'll use Bachelor's degree holders."
   ]
  },
  {
   "cell_type": "code",
   "execution_count": 2,
   "metadata": {},
   "outputs": [],
   "source": [
    "rates = pd.read_csv(\"../data/processed/bach_rate.csv\", index_col = 0)\n",
    "population = pd.read_csv(\"../data/processed/bach_pop.csv\", index_col = 0)\n",
    "employed = pd.read_csv(\"../data/processed/bach_employed.csv\", index_col = 0)"
   ]
  },
  {
   "cell_type": "code",
   "execution_count": 3,
   "metadata": {},
   "outputs": [],
   "source": [
    "actual_1 = rates['2007']"
   ]
  },
  {
   "cell_type": "code",
   "execution_count": 4,
   "metadata": {},
   "outputs": [],
   "source": [
    "counterfactual = pd.DataFrame(index = population.index)"
   ]
  },
  {
   "cell_type": "code",
   "execution_count": 5,
   "metadata": {},
   "outputs": [],
   "source": [
    "for col in population.columns:\n",
    "    counterfactual[col] = (population[col] * actual_1)"
   ]
  },
  {
   "cell_type": "code",
   "execution_count": 6,
   "metadata": {},
   "outputs": [],
   "source": [
    "weighted_counterfactual = (counterfactual * counterfactual.apply(lambda x: x/x.sum())).mean()\n",
    "weighted_actual = (employed * employed.apply(lambda x: x/x.sum())).mean()\n",
    "weighted_population = (population * population.apply(lambda x: x/x.sum())).mean()"
   ]
  },
  {
   "cell_type": "code",
   "execution_count": 7,
   "metadata": {},
   "outputs": [],
   "source": [
    "data = (((weighted_actual - weighted_counterfactual) / weighted_population).round(4)*100).to_frame()"
   ]
  },
  {
   "cell_type": "code",
   "execution_count": 8,
   "metadata": {},
   "outputs": [],
   "source": [
    "import altair as alt"
   ]
  },
  {
   "cell_type": "code",
   "execution_count": 9,
   "metadata": {},
   "outputs": [
    {
     "data": {
      "application/vnd.vegalite.v2+json": {
       "$schema": "https://vega.github.io/schema/vega-lite/v2.6.0.json",
       "config": {
        "view": {
         "height": 300,
         "width": 400
        }
       },
       "data": {
        "name": "data-5235a6243681dc608e7f76c7a68f6a5c"
       },
       "datasets": {
        "data-5235a6243681dc608e7f76c7a68f6a5c": [
         {
          "value": 0,
          "year": "2007"
         },
         {
          "value": -0.06,
          "year": "2008"
         },
         {
          "value": -2.17,
          "year": "2009"
         },
         {
          "value": -2.8400000000000003,
          "year": "2010"
         },
         {
          "value": -2.73,
          "year": "2011"
         },
         {
          "value": -2.18,
          "year": "2012"
         },
         {
          "value": -2.03,
          "year": "2013"
         },
         {
          "value": -1.58,
          "year": "2014"
         },
         {
          "value": -1.1900000000000002,
          "year": "2015"
         },
         {
          "value": -1.03,
          "year": "2016"
         },
         {
          "value": -0.7100000000000001,
          "year": "2017"
         },
         {
          "value": -0.24,
          "year": "2018"
         }
        ]
       },
       "encoding": {
        "x": {
         "field": "year",
         "type": "ordinal"
        },
        "y": {
         "field": "value",
         "type": "quantitative"
        }
       },
       "mark": "line"
      },
      "image/png": "[encoded data removed]",
      "text/plain": [
       "<VegaLite 2 object>\n",
       "\n",
       "If you see this message, it means the renderer has not been properly enabled\n",
       "for the frontend that you are using. For more information, see\n",
       "https://altair-viz.github.io/user_guide/troubleshooting.html\n"
      ]
     },
     "execution_count": 9,
     "metadata": {},
     "output_type": "execute_result"
    }
   ],
   "source": [
    "data.reset_index(inplace = True)\n",
    "data.columns = ['year', 'value']\n",
    "\n",
    "alt.Chart(data).mark_line().encode(\n",
    "    x = alt.X('year:O'),\n",
    "    y = alt.Y('value:Q'),\n",
    ")"
   ]
  },
  {
   "cell_type": "code",
   "execution_count": 10,
   "metadata": {},
   "outputs": [],
   "source": [
    "data_2 = pd.DataFrame()\n",
    "\n",
    "data_2['actual'] = weighted_actual\n",
    "data_2['counterfactual'] = weighted_counterfactual\n",
    "data_2['population'] = weighted_population\n",
    "\n",
    "data_2['actual_rate'] = data_2['actual'] / data_2['population']\n",
    "data_2['counter_rate'] = data_2['counterfactual'] / data_2['population']"
   ]
  },
  {
   "cell_type": "code",
   "execution_count": 11,
   "metadata": {},
   "outputs": [],
   "source": [
    "data_3 = data_2.reset_index().melt(id_vars='index', value_vars = ['actual_rate', 'counter_rate'])\n",
    "\n",
    "data_3.columns = ['year', 'rates', 'value']"
   ]
  },
  {
   "cell_type": "code",
   "execution_count": 12,
   "metadata": {},
   "outputs": [
    {
     "data": {
      "application/vnd.vegalite.v2+json": {
       "$schema": "https://vega.github.io/schema/vega-lite/v2.6.0.json",
       "config": {
        "view": {
         "height": 300,
         "width": 400
        }
       },
       "data": {
        "name": "data-84ee59dec08a736251cc733587d444b5"
       },
       "datasets": {
        "data-84ee59dec08a736251cc733587d444b5": [
         {
          "rates": "actual_rate",
          "value": 0.8457868100054464,
          "year": "2007"
         },
         {
          "rates": "actual_rate",
          "value": 0.8434093966314063,
          "year": "2008"
         },
         {
          "rates": "actual_rate",
          "value": 0.8194682207570935,
          "year": "2009"
         },
         {
          "rates": "actual_rate",
          "value": 0.8105064711916803,
          "year": "2010"
         },
         {
          "rates": "actual_rate",
          "value": 0.810353515448143,
          "year": "2011"
         },
         {
          "rates": "actual_rate",
          "value": 0.8127521236914731,
          "year": "2012"
         },
         {
          "rates": "actual_rate",
          "value": 0.8148274210362509,
          "year": "2013"
         },
         {
          "rates": "actual_rate",
          "value": 0.8188795587846176,
          "year": "2014"
         },
         {
          "rates": "actual_rate",
          "value": 0.8224121833518203,
          "year": "2015"
         },
         {
          "rates": "actual_rate",
          "value": 0.8233342622940706,
          "year": "2016"
         },
         {
          "rates": "actual_rate",
          "value": 0.8260303904054759,
          "year": "2017"
         },
         {
          "rates": "actual_rate",
          "value": 0.831452379513399,
          "year": "2018"
         },
         {
          "rates": "counter_rate",
          "value": 0.8457868100054464,
          "year": "2007"
         },
         {
          "rates": "counter_rate",
          "value": 0.8439766352553976,
          "year": "2008"
         },
         {
          "rates": "counter_rate",
          "value": 0.8411858299554519,
          "year": "2009"
         },
         {
          "rates": "counter_rate",
          "value": 0.8388983789221679,
          "year": "2010"
         },
         {
          "rates": "counter_rate",
          "value": 0.8376686971897069,
          "year": "2011"
         },
         {
          "rates": "counter_rate",
          "value": 0.8345736390981274,
          "year": "2012"
         },
         {
          "rates": "counter_rate",
          "value": 0.8350857499503596,
          "year": "2013"
         },
         {
          "rates": "counter_rate",
          "value": 0.8347256134287772,
          "year": "2014"
         },
         {
          "rates": "counter_rate",
          "value": 0.8343527461003342,
          "year": "2015"
         },
         {
          "rates": "counter_rate",
          "value": 0.8336115609351012,
          "year": "2016"
         },
         {
          "rates": "counter_rate",
          "value": 0.8330953153791083,
          "year": "2017"
         },
         {
          "rates": "counter_rate",
          "value": 0.8338779820552401,
          "year": "2018"
         }
        ]
       },
       "encoding": {
        "color": {
         "field": "rates",
         "type": "nominal"
        },
        "x": {
         "field": "year",
         "type": "ordinal"
        },
        "y": {
         "axis": {
          "format": "%"
         },
         "field": "value",
         "scale": {
          "domain": [
           0.8,
           0.87
          ]
         },
         "type": "quantitative"
        }
       },
       "mark": "line"
      },
      "image/png": "[encoded data removed]",
      "text/plain": [
       "<VegaLite 2 object>\n",
       "\n",
       "If you see this message, it means the renderer has not been properly enabled\n",
       "for the frontend that you are using. For more information, see\n",
       "https://altair-viz.github.io/user_guide/troubleshooting.html\n"
      ]
     },
     "execution_count": 12,
     "metadata": {},
     "output_type": "execute_result"
    }
   ],
   "source": [
    "alt.Chart(data_3).mark_line().encode(\n",
    "    x = alt.X('year:O'),\n",
    "    y = alt.Y('value:Q', scale = alt.Scale(domain = [.80, .87]), axis = alt.Axis(format = '%')),\n",
    "    color = alt.Color(\"rates:N\")\n",
    ")"
   ]
  },
  {
   "cell_type": "code",
   "execution_count": 13,
   "metadata": {},
   "outputs": [],
   "source": [
    "gap = data_2.copy()\n",
    "gap['gap'] = gap['actual_rate'] - gap['counter_rate']\n",
    "\n",
    "gap = gap.reset_index().melt(id_vars='index', value_vars = 'gap')\n",
    "\n",
    "gap.columns = ['year', 'gap', 'value']"
   ]
  },
  {
   "cell_type": "code",
   "execution_count": 20,
   "metadata": {},
   "outputs": [
    {
     "data": {
      "text/plain": [
       "Index(['2007', '2008', '2009', '2010', '2011', '2012', '2013', '2014', '2015',\n",
       "       '2016', '2017', '2018'],\n",
       "      dtype='object', name='year')"
      ]
     },
     "execution_count": 20,
     "metadata": {},
     "output_type": "execute_result"
    }
   ],
   "source": [
    "\n",
    "gap.index"
   ]
  },
  {
   "cell_type": "code",
   "execution_count": 15,
   "metadata": {},
   "outputs": [],
   "source": [
    "bach_chart = alt.Chart(gap).mark_line().encode(\n",
    "    x = alt.X('year:O'),\n",
    "    y = alt.Y('value:Q', axis = alt.Axis(format = '%')),\n",
    ")"
   ]
  },
  {
   "cell_type": "markdown",
   "metadata": {},
   "source": [
    "***\n",
    "![brookings](https://i2.wp.com/www.brookings.edu/wp-content/uploads/2018/09/ES_THP_082818_JobsGap_Fig2.jpg?fit=1000%2C750px&ssl=1)"
   ]
  },
  {
   "cell_type": "code",
   "execution_count": 16,
   "metadata": {},
   "outputs": [],
   "source": [
    "%run theme.py"
   ]
  },
  {
   "cell_type": "code",
   "execution_count": 17,
   "metadata": {},
   "outputs": [
    {
     "data": {
      "text/html": [
       "<style>\n",
       "@import url('https://fonts.googleapis.com/css?family=Ubuntu|Ubuntu+Condensed|Ubuntu+Mono');\n",
       "</style>"
      ],
      "text/plain": [
       "<IPython.core.display.HTML object>"
      ]
     },
     "metadata": {},
     "output_type": "display_data"
    }
   ],
   "source": [
    "%%html\n",
    "<style>\n",
    "@import url('https://fonts.googleapis.com/css?family=Ubuntu|Ubuntu+Condensed|Ubuntu+Mono');\n",
    "</style>"
   ]
  },
  {
   "cell_type": "code",
   "execution_count": 18,
   "metadata": {},
   "outputs": [
    {
     "data": {
      "application/vnd.vegalite.v2+json": {
       "$schema": "https://vega.github.io/schema/vega-lite/v2.6.0.json",
       "autosize": "fit",
       "config": {
        "arc": {
         "fill": "#282828"
        },
        "area": {
         "fill": "#282828"
        },
        "axisBand": {
         "grid": false
        },
        "axisBottom": {
         "domain": false,
         "domainColor": "black",
         "domainWidth": 3,
         "grid": true,
         "gridColor": "#C9C9C9",
         "gridWidth": 1,
         "labelAngle": 0,
         "labelFont": "Ubuntu Condensed",
         "labelFontSize": 24,
         "labelPadding": 8,
         "tickColor": "#282828",
         "tickSize": 10,
         "title": "",
         "titleFont": "Ubuntu",
         "titleFontSize": 16,
         "titlePadding": 10
        },
        "axisLeft": {
         "domainColor": "#282828",
         "domainWidth": 1,
         "gridColor": "#C9C9C9",
         "gridWidth": 1,
         "labelFont": "Ubuntu Condensed",
         "labelFontSize": 20,
         "labelPadding": 8,
         "tickColor": "#282828",
         "tickSize": 10,
         "ticks": true,
         "titleFont": "Ubuntu",
         "titleFontSize": 22,
         "titlePadding": 10
        },
        "axisRight": {
         "domainColor": "#282828",
         "domainWidth": 1,
         "gridColor": "#C9C9C9",
         "gridWidth": 1,
         "labelFont": "Ubuntu Condensed",
         "labelFontSize": 12,
         "labelPadding": 4,
         "tickColor": "#282828",
         "tickSize": 10,
         "ticks": true,
         "titleFont": "Ubuntu",
         "titleFontSize": 14,
         "titlePadding": 10
        },
        "axisTop": {
         "domain": false,
         "domainColor": "black",
         "domainWidth": 3,
         "grid": true,
         "gridColor": "#C9C9C9",
         "gridWidth": 1,
         "labelFont": "Ubuntu Condensed",
         "labelFontSize": 12,
         "labelPadding": 4,
         "tickColor": "#282828",
         "tickSize": 10,
         "titleFont": "Ubuntu",
         "titleFontSize": 14,
         "titlePadding": 10
        },
        "background": "#FFFAFA",
        "geoshape": {
         "fill": "#C0C0C0"
        },
        "group": {
         "fill": "#FFFAFA"
        },
        "header": {
         "fontWeight": 400,
         "labelFont": "Ubuntu Condensed",
         "labelFontSize": 28,
         "title": " ",
         "titleBaseline": "bottom",
         "titleFont": "Ubuntu",
         "titleFontSize": 28,
         "titleOffset": -30
        },
        "legend": {
         "labelFont": "Ubuntu Condensed",
         "labelFontSize": 16,
         "labelLimit": 500,
         "padding": 10,
         "symbolSize": 30,
         "symbolType": "square",
         "titleFont": "Ubuntu",
         "titleFontSize": 26,
         "titlePadding": 10
        },
        "line": {
         "color": "#282828",
         "stroke": "#282828",
         "strokewidth": 5
        },
        "padding": 10,
        "path": {
         "stroke": "#282828",
         "strokeWidth": 0.5
        },
        "point": {
         "filled": true
        },
        "range": {
         "category": [
          "#dc0d7a",
          "#02a3cd",
          "#e4a100",
          "#dc0d12",
          "#0DDC6F",
          "#074a7e",
          "#e46800",
          "#aa3594",
          "#a20c4b"
         ],
         "diverging": [
          "#dc0d12",
          "#e9686b",
          "#fbe1e1",
          "#dff4f9",
          "#81d1e6",
          "#03a3cd"
         ],
         "heatmap": [
          "#fcdfef",
          "#f8bfde",
          "#f59fce",
          "#f180be",
          "#ee60ad",
          "#eb409d",
          "#e7208c",
          "#e4007c"
         ]
        },
        "rect": {
         "fill": "#A20C4B",
         "opacity": 0.3
        },
        "style": {
         "bar": {
          "binSpacing": 2,
          "fill": "#282828",
          "stroke": false
         },
         "text": {
          "align": "right",
          "dx": 300,
          "font": "Ubuntu Mono",
          "fontSize": 10,
          "fontWeight": 100,
          "href": "https://twitter.com/ChekosWH",
          "size": 10,
          "text": "Made by @ChekosWH"
         }
        },
        "symbol": {
         "opacity": 1,
         "shape": "circle",
         "size": 40,
         "strokeWidth": 1
        },
        "title": {
         "anchor": "start",
         "font": "Ubuntu",
         "fontSize": 24,
         "fontWeight": 600,
         "offset": 20
        },
        "trail": {
         "color": "#282828",
         "size": 5,
         "stroke": "#282828",
         "strokeWidth": 0
        },
        "view": {
         "padding": 15,
         "stroke": false
        }
       },
       "data": {
        "name": "data-09d89ef80cca0024ebe8ae5e40d0ba66"
       },
       "datasets": {
        "data-09d89ef80cca0024ebe8ae5e40d0ba66": [
         {
          "gap": "gap",
          "value": 0,
          "year": "2007"
         },
         {
          "gap": "gap",
          "value": -0.0005672386239912175,
          "year": "2008"
         },
         {
          "gap": "gap",
          "value": -0.021717609198358412,
          "year": "2009"
         },
         {
          "gap": "gap",
          "value": -0.02839190773048761,
          "year": "2010"
         },
         {
          "gap": "gap",
          "value": -0.027315181741563888,
          "year": "2011"
         },
         {
          "gap": "gap",
          "value": -0.021821515406654335,
          "year": "2012"
         },
         {
          "gap": "gap",
          "value": -0.020258328914108614,
          "year": "2013"
         },
         {
          "gap": "gap",
          "value": -0.015846054644159557,
          "year": "2014"
         },
         {
          "gap": "gap",
          "value": -0.01194056274851385,
          "year": "2015"
         },
         {
          "gap": "gap",
          "value": -0.010277298641030663,
          "year": "2016"
         },
         {
          "gap": "gap",
          "value": -0.007064924973632425,
          "year": "2017"
         },
         {
          "gap": "gap",
          "value": -0.0024256025418410987,
          "year": "2018"
         }
        ]
       },
       "encoding": {
        "x": {
         "field": "year",
         "type": "ordinal"
        },
        "y": {
         "axis": {
          "format": "%"
         },
         "field": "value",
         "type": "quantitative"
        }
       },
       "height": 400,
       "mark": "line",
       "title": "bachelor's employment-to-population ratio gap",
       "width": 800
      },
      "image/png": "[encoded data removed]",
      "text/plain": [
       "<VegaLite 2 object>\n",
       "\n",
       "If you see this message, it means the renderer has not been properly enabled\n",
       "for the frontend that you are using. For more information, see\n",
       "https://altair-viz.github.io/user_guide/troubleshooting.html\n"
      ]
     },
     "execution_count": 18,
     "metadata": {},
     "output_type": "execute_result"
    }
   ],
   "source": [
    "bach_chart.properties(height = 400, width = 800, title = \"bachelor's employment-to-population ratio gap\")"
   ]
  },
  {
   "cell_type": "code",
   "execution_count": null,
   "metadata": {},
   "outputs": [],
   "source": []
  }
 ],
 "metadata": {
  "kernelspec": {
   "display_name": "Python 3",
   "language": "python",
   "name": "python3"
  },
  "language_info": {
   "codemirror_mode": {
    "name": "ipython",
    "version": 3
   },
   "file_extension": ".py",
   "mimetype": "text/x-python",
   "name": "python",
   "nbconvert_exporter": "python",
   "pygments_lexer": "ipython3",
   "version": "3.7.3"
  }
 },
 "nbformat": 4,
 "nbformat_minor": 2
}
